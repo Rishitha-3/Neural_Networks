{
 "cells": [
  {
   "cell_type": "code",
   "execution_count": 1,
   "id": "75eba024-765d-4f17-a720-4ea4cd584a1a",
   "metadata": {},
   "outputs": [
    {
     "data": {
      "text/html": [
       "<div>\n",
       "<style scoped>\n",
       "    .dataframe tbody tr th:only-of-type {\n",
       "        vertical-align: middle;\n",
       "    }\n",
       "\n",
       "    .dataframe tbody tr th {\n",
       "        vertical-align: top;\n",
       "    }\n",
       "\n",
       "    .dataframe thead th {\n",
       "        text-align: right;\n",
       "    }\n",
       "</style>\n",
       "<table border=\"1\" class=\"dataframe\">\n",
       "  <thead>\n",
       "    <tr style=\"text-align: right;\">\n",
       "      <th></th>\n",
       "      <th>letter</th>\n",
       "      <th>xbox</th>\n",
       "      <th>ybox</th>\n",
       "      <th>width</th>\n",
       "      <th>height</th>\n",
       "      <th>onpix</th>\n",
       "      <th>xbar</th>\n",
       "      <th>ybar</th>\n",
       "      <th>x2bar</th>\n",
       "      <th>y2bar</th>\n",
       "      <th>xybar</th>\n",
       "      <th>x2ybar</th>\n",
       "      <th>xy2bar</th>\n",
       "      <th>xedge</th>\n",
       "      <th>xedgey</th>\n",
       "      <th>yedge</th>\n",
       "      <th>yedgex</th>\n",
       "    </tr>\n",
       "  </thead>\n",
       "  <tbody>\n",
       "    <tr>\n",
       "      <th>0</th>\n",
       "      <td>T</td>\n",
       "      <td>2</td>\n",
       "      <td>8</td>\n",
       "      <td>3</td>\n",
       "      <td>5</td>\n",
       "      <td>1</td>\n",
       "      <td>8</td>\n",
       "      <td>13</td>\n",
       "      <td>0</td>\n",
       "      <td>6</td>\n",
       "      <td>6</td>\n",
       "      <td>10</td>\n",
       "      <td>8</td>\n",
       "      <td>0</td>\n",
       "      <td>8</td>\n",
       "      <td>0</td>\n",
       "      <td>8</td>\n",
       "    </tr>\n",
       "    <tr>\n",
       "      <th>1</th>\n",
       "      <td>I</td>\n",
       "      <td>5</td>\n",
       "      <td>12</td>\n",
       "      <td>3</td>\n",
       "      <td>7</td>\n",
       "      <td>2</td>\n",
       "      <td>10</td>\n",
       "      <td>5</td>\n",
       "      <td>5</td>\n",
       "      <td>4</td>\n",
       "      <td>13</td>\n",
       "      <td>3</td>\n",
       "      <td>9</td>\n",
       "      <td>2</td>\n",
       "      <td>8</td>\n",
       "      <td>4</td>\n",
       "      <td>10</td>\n",
       "    </tr>\n",
       "    <tr>\n",
       "      <th>2</th>\n",
       "      <td>D</td>\n",
       "      <td>4</td>\n",
       "      <td>11</td>\n",
       "      <td>6</td>\n",
       "      <td>8</td>\n",
       "      <td>6</td>\n",
       "      <td>10</td>\n",
       "      <td>6</td>\n",
       "      <td>2</td>\n",
       "      <td>6</td>\n",
       "      <td>10</td>\n",
       "      <td>3</td>\n",
       "      <td>7</td>\n",
       "      <td>3</td>\n",
       "      <td>7</td>\n",
       "      <td>3</td>\n",
       "      <td>9</td>\n",
       "    </tr>\n",
       "    <tr>\n",
       "      <th>3</th>\n",
       "      <td>N</td>\n",
       "      <td>7</td>\n",
       "      <td>11</td>\n",
       "      <td>6</td>\n",
       "      <td>6</td>\n",
       "      <td>3</td>\n",
       "      <td>5</td>\n",
       "      <td>9</td>\n",
       "      <td>4</td>\n",
       "      <td>6</td>\n",
       "      <td>4</td>\n",
       "      <td>4</td>\n",
       "      <td>10</td>\n",
       "      <td>6</td>\n",
       "      <td>10</td>\n",
       "      <td>2</td>\n",
       "      <td>8</td>\n",
       "    </tr>\n",
       "    <tr>\n",
       "      <th>4</th>\n",
       "      <td>G</td>\n",
       "      <td>2</td>\n",
       "      <td>1</td>\n",
       "      <td>3</td>\n",
       "      <td>1</td>\n",
       "      <td>1</td>\n",
       "      <td>8</td>\n",
       "      <td>6</td>\n",
       "      <td>6</td>\n",
       "      <td>6</td>\n",
       "      <td>6</td>\n",
       "      <td>5</td>\n",
       "      <td>9</td>\n",
       "      <td>1</td>\n",
       "      <td>7</td>\n",
       "      <td>5</td>\n",
       "      <td>10</td>\n",
       "    </tr>\n",
       "    <tr>\n",
       "      <th>...</th>\n",
       "      <td>...</td>\n",
       "      <td>...</td>\n",
       "      <td>...</td>\n",
       "      <td>...</td>\n",
       "      <td>...</td>\n",
       "      <td>...</td>\n",
       "      <td>...</td>\n",
       "      <td>...</td>\n",
       "      <td>...</td>\n",
       "      <td>...</td>\n",
       "      <td>...</td>\n",
       "      <td>...</td>\n",
       "      <td>...</td>\n",
       "      <td>...</td>\n",
       "      <td>...</td>\n",
       "      <td>...</td>\n",
       "      <td>...</td>\n",
       "    </tr>\n",
       "    <tr>\n",
       "      <th>19995</th>\n",
       "      <td>D</td>\n",
       "      <td>2</td>\n",
       "      <td>2</td>\n",
       "      <td>3</td>\n",
       "      <td>3</td>\n",
       "      <td>2</td>\n",
       "      <td>7</td>\n",
       "      <td>7</td>\n",
       "      <td>7</td>\n",
       "      <td>6</td>\n",
       "      <td>6</td>\n",
       "      <td>6</td>\n",
       "      <td>4</td>\n",
       "      <td>2</td>\n",
       "      <td>8</td>\n",
       "      <td>3</td>\n",
       "      <td>7</td>\n",
       "    </tr>\n",
       "    <tr>\n",
       "      <th>19996</th>\n",
       "      <td>C</td>\n",
       "      <td>7</td>\n",
       "      <td>10</td>\n",
       "      <td>8</td>\n",
       "      <td>8</td>\n",
       "      <td>4</td>\n",
       "      <td>4</td>\n",
       "      <td>8</td>\n",
       "      <td>6</td>\n",
       "      <td>9</td>\n",
       "      <td>12</td>\n",
       "      <td>9</td>\n",
       "      <td>13</td>\n",
       "      <td>2</td>\n",
       "      <td>9</td>\n",
       "      <td>3</td>\n",
       "      <td>7</td>\n",
       "    </tr>\n",
       "    <tr>\n",
       "      <th>19997</th>\n",
       "      <td>T</td>\n",
       "      <td>6</td>\n",
       "      <td>9</td>\n",
       "      <td>6</td>\n",
       "      <td>7</td>\n",
       "      <td>5</td>\n",
       "      <td>6</td>\n",
       "      <td>11</td>\n",
       "      <td>3</td>\n",
       "      <td>7</td>\n",
       "      <td>11</td>\n",
       "      <td>9</td>\n",
       "      <td>5</td>\n",
       "      <td>2</td>\n",
       "      <td>12</td>\n",
       "      <td>2</td>\n",
       "      <td>4</td>\n",
       "    </tr>\n",
       "    <tr>\n",
       "      <th>19998</th>\n",
       "      <td>S</td>\n",
       "      <td>2</td>\n",
       "      <td>3</td>\n",
       "      <td>4</td>\n",
       "      <td>2</td>\n",
       "      <td>1</td>\n",
       "      <td>8</td>\n",
       "      <td>7</td>\n",
       "      <td>2</td>\n",
       "      <td>6</td>\n",
       "      <td>10</td>\n",
       "      <td>6</td>\n",
       "      <td>8</td>\n",
       "      <td>1</td>\n",
       "      <td>9</td>\n",
       "      <td>5</td>\n",
       "      <td>8</td>\n",
       "    </tr>\n",
       "    <tr>\n",
       "      <th>19999</th>\n",
       "      <td>A</td>\n",
       "      <td>4</td>\n",
       "      <td>9</td>\n",
       "      <td>6</td>\n",
       "      <td>6</td>\n",
       "      <td>2</td>\n",
       "      <td>9</td>\n",
       "      <td>5</td>\n",
       "      <td>3</td>\n",
       "      <td>1</td>\n",
       "      <td>8</td>\n",
       "      <td>1</td>\n",
       "      <td>8</td>\n",
       "      <td>2</td>\n",
       "      <td>7</td>\n",
       "      <td>2</td>\n",
       "      <td>8</td>\n",
       "    </tr>\n",
       "  </tbody>\n",
       "</table>\n",
       "<p>20000 rows × 17 columns</p>\n",
       "</div>"
      ],
      "text/plain": [
       "      letter  xbox  ybox  width  height  onpix  xbar  ybar  x2bar  y2bar  \\\n",
       "0          T     2     8      3       5      1     8    13      0      6   \n",
       "1          I     5    12      3       7      2    10     5      5      4   \n",
       "2          D     4    11      6       8      6    10     6      2      6   \n",
       "3          N     7    11      6       6      3     5     9      4      6   \n",
       "4          G     2     1      3       1      1     8     6      6      6   \n",
       "...      ...   ...   ...    ...     ...    ...   ...   ...    ...    ...   \n",
       "19995      D     2     2      3       3      2     7     7      7      6   \n",
       "19996      C     7    10      8       8      4     4     8      6      9   \n",
       "19997      T     6     9      6       7      5     6    11      3      7   \n",
       "19998      S     2     3      4       2      1     8     7      2      6   \n",
       "19999      A     4     9      6       6      2     9     5      3      1   \n",
       "\n",
       "       xybar  x2ybar  xy2bar  xedge  xedgey  yedge  yedgex  \n",
       "0          6      10       8      0       8      0       8  \n",
       "1         13       3       9      2       8      4      10  \n",
       "2         10       3       7      3       7      3       9  \n",
       "3          4       4      10      6      10      2       8  \n",
       "4          6       5       9      1       7      5      10  \n",
       "...      ...     ...     ...    ...     ...    ...     ...  \n",
       "19995      6       6       4      2       8      3       7  \n",
       "19996     12       9      13      2       9      3       7  \n",
       "19997     11       9       5      2      12      2       4  \n",
       "19998     10       6       8      1       9      5       8  \n",
       "19999      8       1       8      2       7      2       8  \n",
       "\n",
       "[20000 rows x 17 columns]"
      ]
     },
     "execution_count": 1,
     "metadata": {},
     "output_type": "execute_result"
    }
   ],
   "source": [
    "#Importing the dataset\n",
    "import pandas as pd\n",
    "df = pd.read_csv(\"Alphabets_data.csv\")\n",
    "df\n"
   ]
  },
  {
   "cell_type": "code",
   "execution_count": 2,
   "id": "7c49361c-b3e0-47e9-94bf-24e9caee5081",
   "metadata": {},
   "outputs": [
    {
     "name": "stdout",
     "output_type": "stream",
     "text": [
      "<class 'pandas.core.frame.DataFrame'>\n",
      "RangeIndex: 20000 entries, 0 to 19999\n",
      "Data columns (total 17 columns):\n",
      " #   Column  Non-Null Count  Dtype \n",
      "---  ------  --------------  ----- \n",
      " 0   letter  20000 non-null  object\n",
      " 1   xbox    20000 non-null  int64 \n",
      " 2   ybox    20000 non-null  int64 \n",
      " 3   width   20000 non-null  int64 \n",
      " 4   height  20000 non-null  int64 \n",
      " 5   onpix   20000 non-null  int64 \n",
      " 6   xbar    20000 non-null  int64 \n",
      " 7   ybar    20000 non-null  int64 \n",
      " 8   x2bar   20000 non-null  int64 \n",
      " 9   y2bar   20000 non-null  int64 \n",
      " 10  xybar   20000 non-null  int64 \n",
      " 11  x2ybar  20000 non-null  int64 \n",
      " 12  xy2bar  20000 non-null  int64 \n",
      " 13  xedge   20000 non-null  int64 \n",
      " 14  xedgey  20000 non-null  int64 \n",
      " 15  yedge   20000 non-null  int64 \n",
      " 16  yedgex  20000 non-null  int64 \n",
      "dtypes: int64(16), object(1)\n",
      "memory usage: 2.6+ MB\n"
     ]
    }
   ],
   "source": [
    "df.info()"
   ]
  },
  {
   "cell_type": "code",
   "execution_count": null,
   "id": "bbcbf8b4-9cf4-4a80-9407-5ae633644c04",
   "metadata": {},
   "outputs": [],
   "source": [
    "#There are no null values in the given dataset"
   ]
  },
  {
   "cell_type": "code",
   "execution_count": 3,
   "id": "6d87b2e5-c163-4e49-b4aa-cc473c18c0c7",
   "metadata": {},
   "outputs": [
    {
     "data": {
      "text/html": [
       "<div>\n",
       "<style scoped>\n",
       "    .dataframe tbody tr th:only-of-type {\n",
       "        vertical-align: middle;\n",
       "    }\n",
       "\n",
       "    .dataframe tbody tr th {\n",
       "        vertical-align: top;\n",
       "    }\n",
       "\n",
       "    .dataframe thead th {\n",
       "        text-align: right;\n",
       "    }\n",
       "</style>\n",
       "<table border=\"1\" class=\"dataframe\">\n",
       "  <thead>\n",
       "    <tr style=\"text-align: right;\">\n",
       "      <th></th>\n",
       "      <th>count</th>\n",
       "      <th>mean</th>\n",
       "      <th>std</th>\n",
       "      <th>min</th>\n",
       "      <th>25%</th>\n",
       "      <th>50%</th>\n",
       "      <th>75%</th>\n",
       "      <th>max</th>\n",
       "    </tr>\n",
       "  </thead>\n",
       "  <tbody>\n",
       "    <tr>\n",
       "      <th>xbox</th>\n",
       "      <td>20000.0</td>\n",
       "      <td>4.02355</td>\n",
       "      <td>1.913212</td>\n",
       "      <td>0.0</td>\n",
       "      <td>3.0</td>\n",
       "      <td>4.0</td>\n",
       "      <td>5.0</td>\n",
       "      <td>15.0</td>\n",
       "    </tr>\n",
       "    <tr>\n",
       "      <th>ybox</th>\n",
       "      <td>20000.0</td>\n",
       "      <td>7.03550</td>\n",
       "      <td>3.304555</td>\n",
       "      <td>0.0</td>\n",
       "      <td>5.0</td>\n",
       "      <td>7.0</td>\n",
       "      <td>9.0</td>\n",
       "      <td>15.0</td>\n",
       "    </tr>\n",
       "    <tr>\n",
       "      <th>width</th>\n",
       "      <td>20000.0</td>\n",
       "      <td>5.12185</td>\n",
       "      <td>2.014573</td>\n",
       "      <td>0.0</td>\n",
       "      <td>4.0</td>\n",
       "      <td>5.0</td>\n",
       "      <td>6.0</td>\n",
       "      <td>15.0</td>\n",
       "    </tr>\n",
       "    <tr>\n",
       "      <th>height</th>\n",
       "      <td>20000.0</td>\n",
       "      <td>5.37245</td>\n",
       "      <td>2.261390</td>\n",
       "      <td>0.0</td>\n",
       "      <td>4.0</td>\n",
       "      <td>6.0</td>\n",
       "      <td>7.0</td>\n",
       "      <td>15.0</td>\n",
       "    </tr>\n",
       "    <tr>\n",
       "      <th>onpix</th>\n",
       "      <td>20000.0</td>\n",
       "      <td>3.50585</td>\n",
       "      <td>2.190458</td>\n",
       "      <td>0.0</td>\n",
       "      <td>2.0</td>\n",
       "      <td>3.0</td>\n",
       "      <td>5.0</td>\n",
       "      <td>15.0</td>\n",
       "    </tr>\n",
       "    <tr>\n",
       "      <th>xbar</th>\n",
       "      <td>20000.0</td>\n",
       "      <td>6.89760</td>\n",
       "      <td>2.026035</td>\n",
       "      <td>0.0</td>\n",
       "      <td>6.0</td>\n",
       "      <td>7.0</td>\n",
       "      <td>8.0</td>\n",
       "      <td>15.0</td>\n",
       "    </tr>\n",
       "    <tr>\n",
       "      <th>ybar</th>\n",
       "      <td>20000.0</td>\n",
       "      <td>7.50045</td>\n",
       "      <td>2.325354</td>\n",
       "      <td>0.0</td>\n",
       "      <td>6.0</td>\n",
       "      <td>7.0</td>\n",
       "      <td>9.0</td>\n",
       "      <td>15.0</td>\n",
       "    </tr>\n",
       "    <tr>\n",
       "      <th>x2bar</th>\n",
       "      <td>20000.0</td>\n",
       "      <td>4.62860</td>\n",
       "      <td>2.699968</td>\n",
       "      <td>0.0</td>\n",
       "      <td>3.0</td>\n",
       "      <td>4.0</td>\n",
       "      <td>6.0</td>\n",
       "      <td>15.0</td>\n",
       "    </tr>\n",
       "    <tr>\n",
       "      <th>y2bar</th>\n",
       "      <td>20000.0</td>\n",
       "      <td>5.17865</td>\n",
       "      <td>2.380823</td>\n",
       "      <td>0.0</td>\n",
       "      <td>4.0</td>\n",
       "      <td>5.0</td>\n",
       "      <td>7.0</td>\n",
       "      <td>15.0</td>\n",
       "    </tr>\n",
       "    <tr>\n",
       "      <th>xybar</th>\n",
       "      <td>20000.0</td>\n",
       "      <td>8.28205</td>\n",
       "      <td>2.488475</td>\n",
       "      <td>0.0</td>\n",
       "      <td>7.0</td>\n",
       "      <td>8.0</td>\n",
       "      <td>10.0</td>\n",
       "      <td>15.0</td>\n",
       "    </tr>\n",
       "    <tr>\n",
       "      <th>x2ybar</th>\n",
       "      <td>20000.0</td>\n",
       "      <td>6.45400</td>\n",
       "      <td>2.631070</td>\n",
       "      <td>0.0</td>\n",
       "      <td>5.0</td>\n",
       "      <td>6.0</td>\n",
       "      <td>8.0</td>\n",
       "      <td>15.0</td>\n",
       "    </tr>\n",
       "    <tr>\n",
       "      <th>xy2bar</th>\n",
       "      <td>20000.0</td>\n",
       "      <td>7.92900</td>\n",
       "      <td>2.080619</td>\n",
       "      <td>0.0</td>\n",
       "      <td>7.0</td>\n",
       "      <td>8.0</td>\n",
       "      <td>9.0</td>\n",
       "      <td>15.0</td>\n",
       "    </tr>\n",
       "    <tr>\n",
       "      <th>xedge</th>\n",
       "      <td>20000.0</td>\n",
       "      <td>3.04610</td>\n",
       "      <td>2.332541</td>\n",
       "      <td>0.0</td>\n",
       "      <td>1.0</td>\n",
       "      <td>3.0</td>\n",
       "      <td>4.0</td>\n",
       "      <td>15.0</td>\n",
       "    </tr>\n",
       "    <tr>\n",
       "      <th>xedgey</th>\n",
       "      <td>20000.0</td>\n",
       "      <td>8.33885</td>\n",
       "      <td>1.546722</td>\n",
       "      <td>0.0</td>\n",
       "      <td>8.0</td>\n",
       "      <td>8.0</td>\n",
       "      <td>9.0</td>\n",
       "      <td>15.0</td>\n",
       "    </tr>\n",
       "    <tr>\n",
       "      <th>yedge</th>\n",
       "      <td>20000.0</td>\n",
       "      <td>3.69175</td>\n",
       "      <td>2.567073</td>\n",
       "      <td>0.0</td>\n",
       "      <td>2.0</td>\n",
       "      <td>3.0</td>\n",
       "      <td>5.0</td>\n",
       "      <td>15.0</td>\n",
       "    </tr>\n",
       "    <tr>\n",
       "      <th>yedgex</th>\n",
       "      <td>20000.0</td>\n",
       "      <td>7.80120</td>\n",
       "      <td>1.617470</td>\n",
       "      <td>0.0</td>\n",
       "      <td>7.0</td>\n",
       "      <td>8.0</td>\n",
       "      <td>9.0</td>\n",
       "      <td>15.0</td>\n",
       "    </tr>\n",
       "  </tbody>\n",
       "</table>\n",
       "</div>"
      ],
      "text/plain": [
       "          count     mean       std  min  25%  50%   75%   max\n",
       "xbox    20000.0  4.02355  1.913212  0.0  3.0  4.0   5.0  15.0\n",
       "ybox    20000.0  7.03550  3.304555  0.0  5.0  7.0   9.0  15.0\n",
       "width   20000.0  5.12185  2.014573  0.0  4.0  5.0   6.0  15.0\n",
       "height  20000.0  5.37245  2.261390  0.0  4.0  6.0   7.0  15.0\n",
       "onpix   20000.0  3.50585  2.190458  0.0  2.0  3.0   5.0  15.0\n",
       "xbar    20000.0  6.89760  2.026035  0.0  6.0  7.0   8.0  15.0\n",
       "ybar    20000.0  7.50045  2.325354  0.0  6.0  7.0   9.0  15.0\n",
       "x2bar   20000.0  4.62860  2.699968  0.0  3.0  4.0   6.0  15.0\n",
       "y2bar   20000.0  5.17865  2.380823  0.0  4.0  5.0   7.0  15.0\n",
       "xybar   20000.0  8.28205  2.488475  0.0  7.0  8.0  10.0  15.0\n",
       "x2ybar  20000.0  6.45400  2.631070  0.0  5.0  6.0   8.0  15.0\n",
       "xy2bar  20000.0  7.92900  2.080619  0.0  7.0  8.0   9.0  15.0\n",
       "xedge   20000.0  3.04610  2.332541  0.0  1.0  3.0   4.0  15.0\n",
       "xedgey  20000.0  8.33885  1.546722  0.0  8.0  8.0   9.0  15.0\n",
       "yedge   20000.0  3.69175  2.567073  0.0  2.0  3.0   5.0  15.0\n",
       "yedgex  20000.0  7.80120  1.617470  0.0  7.0  8.0   9.0  15.0"
      ]
     },
     "execution_count": 3,
     "metadata": {},
     "output_type": "execute_result"
    }
   ],
   "source": [
    "df.describe().transpose()\n"
   ]
  },
  {
   "cell_type": "code",
   "execution_count": 4,
   "id": "49e6b422-41b2-4d66-8d20-1623fed39e63",
   "metadata": {},
   "outputs": [],
   "source": [
    "####################EDA##########################"
   ]
  },
  {
   "cell_type": "code",
   "execution_count": 5,
   "id": "ee8e6ba9-5ce3-402c-b690-d06518bf7998",
   "metadata": {},
   "outputs": [
    {
     "data": {
      "text/plain": [
       "<Axes: xlabel='yedgex', ylabel='count'>"
      ]
     },
     "execution_count": 5,
     "metadata": {},
     "output_type": "execute_result"
    },
    {
     "data": {
      "image/png": "[encoded data removed]",
      "text/plain": [
       "<Figure size 640x480 with 1 Axes>"
      ]
     },
     "metadata": {},
     "output_type": "display_data"
    }
   ],
   "source": [
    "# Generating the count plots\n",
    "import seaborn as sns\n",
    "sns.countplot(x=\"yedgex\", data = df)"
   ]
  },
  {
   "cell_type": "code",
   "execution_count": 6,
   "id": "15d1bd11-acaa-4b30-8b7d-98edf5fa0f7d",
   "metadata": {},
   "outputs": [
    {
     "data": {
      "text/plain": [
       "<Axes: xlabel='xedgey', ylabel='count'>"
      ]
     },
     "execution_count": 6,
     "metadata": {},
     "output_type": "execute_result"
    },
    {
     "data": {
      "image/png": "[encoded data removed]",
      "text/plain": [
       "<Figure size 640x480 with 1 Axes>"
      ]
     },
     "metadata": {},
     "output_type": "display_data"
    }
   ],
   "source": [
    "import seaborn as sns\n",
    "sns.countplot(x=\"xedgey\", data = df)"
   ]
  },
  {
   "cell_type": "code",
   "execution_count": 7,
   "id": "88b3a0c4-2ac2-43bc-a697-cdeff05de365",
   "metadata": {},
   "outputs": [
    {
     "data": {
      "text/plain": [
       "<Axes: xlabel='xy2bar', ylabel='count'>"
      ]
     },
     "execution_count": 7,
     "metadata": {},
     "output_type": "execute_result"
    },
    {
     "data": {
      "image/png": "[encoded data removed]",
      "text/plain": [
       "<Figure size 640x480 with 1 Axes>"
      ]
     },
     "metadata": {},
     "output_type": "display_data"
    }
   ],
   "source": [
    "import seaborn as sns\n",
    "sns.countplot(x=\"xy2bar\", data = df)"
   ]
  },
  {
   "cell_type": "code",
   "execution_count": 8,
   "id": "bb3f88b9-6e9e-45f7-9e3f-c0fbd640f212",
   "metadata": {},
   "outputs": [
    {
     "data": {
      "text/plain": [
       "<Axes: xlabel='xedge', ylabel='count'>"
      ]
     },
     "execution_count": 8,
     "metadata": {},
     "output_type": "execute_result"
    },
    {
     "data": {
      "image/png": "[encoded data removed]",
      "text/plain": [
       "<Figure size 640x480 with 1 Axes>"
      ]
     },
     "metadata": {},
     "output_type": "display_data"
    }
   ],
   "source": [
    "import seaborn as sns\n",
    "sns.countplot(x=\"xedge\", data = df)"
   ]
  },
  {
   "cell_type": "code",
   "execution_count": 9,
   "id": "68be47a2-a864-42e0-abc0-59effa30fcf6",
   "metadata": {},
   "outputs": [
    {
     "data": {
      "text/plain": [
       "<Axes: xlabel='yedge', ylabel='count'>"
      ]
     },
     "execution_count": 9,
     "metadata": {},
     "output_type": "execute_result"
    },
    {
     "data": {
      "image/png": "[encoded data removed]",
      "text/plain": [
       "<Figure size 640x480 with 1 Axes>"
      ]
     },
     "metadata": {},
     "output_type": "display_data"
    }
   ],
   "source": [
    "import seaborn as sns\n",
    "sns.countplot(x=\"yedge\", data = df)"
   ]
  },
  {
   "cell_type": "code",
   "execution_count": 10,
   "id": "7f78b70e-4f85-43c9-a0da-50cff0fb5dbe",
   "metadata": {},
   "outputs": [
    {
     "data": {
      "text/plain": [
       "<Axes: xlabel='y2bar', ylabel='count'>"
      ]
     },
     "execution_count": 10,
     "metadata": {},
     "output_type": "execute_result"
    },
    {
     "data": {
      "image/png": "[encoded data removed]",
      "text/plain": [
       "<Figure size 640x480 with 1 Axes>"
      ]
     },
     "metadata": {},
     "output_type": "display_data"
    }
   ],
   "source": [
    "import seaborn as sns\n",
    "sns.countplot(x=\"y2bar\", data = df)"
   ]
  },
  {
   "cell_type": "code",
   "execution_count": 11,
   "id": "8d8fa81d-e701-4914-ad8b-ddff00da752c",
   "metadata": {},
   "outputs": [
    {
     "data": {
      "text/plain": [
       "<Axes: xlabel='x2bar', ylabel='count'>"
      ]
     },
     "execution_count": 11,
     "metadata": {},
     "output_type": "execute_result"
    },
    {
     "data": {
      "image/png": "[encoded data removed]",
      "text/plain": [
       "<Figure size 640x480 with 1 Axes>"
      ]
     },
     "metadata": {},
     "output_type": "display_data"
    }
   ],
   "source": [
    "import seaborn as sns\n",
    "sns.countplot(x=\"x2bar\", data = df)"
   ]
  },
  {
   "cell_type": "code",
   "execution_count": 12,
   "id": "58b7b9e2-7a38-4021-81e4-fb39b477bfaa",
   "metadata": {},
   "outputs": [
    {
     "data": {
      "text/plain": [
       "<Axes: xlabel='xybar', ylabel='count'>"
      ]
     },
     "execution_count": 12,
     "metadata": {},
     "output_type": "execute_result"
    },
    {
     "data": {
      "image/png": "[encoded data removed]",
      "text/plain": [
       "<Figure size 640x480 with 1 Axes>"
      ]
     },
     "metadata": {},
     "output_type": "display_data"
    }
   ],
   "source": [
    "import seaborn as sns\n",
    "sns.countplot(x=\"xybar\", data = df)"
   ]
  },
  {
   "cell_type": "code",
   "execution_count": 13,
   "id": "baeffae8-56e6-4745-8ed2-98120120dedf",
   "metadata": {},
   "outputs": [
    {
     "data": {
      "text/plain": [
       "<Axes: xlabel='x2ybar', ylabel='count'>"
      ]
     },
     "execution_count": 13,
     "metadata": {},
     "output_type": "execute_result"
    },
    {
     "data": {
      "image/png": "[encoded data removed]",
      "text/plain": [
       "<Figure size 640x480 with 1 Axes>"
      ]
     },
     "metadata": {},
     "output_type": "display_data"
    }
   ],
   "source": [
    "import seaborn as sns\n",
    "sns.countplot(x=\"x2ybar\", data = df)"
   ]
  },
  {
   "cell_type": "code",
   "execution_count": 14,
   "id": "4f08a1a2-93d5-417c-b7b0-e5d114f934f6",
   "metadata": {},
   "outputs": [
    {
     "data": {
      "text/plain": [
       "<Axes: xlabel='ybar', ylabel='count'>"
      ]
     },
     "execution_count": 14,
     "metadata": {},
     "output_type": "execute_result"
    },
    {
     "data": {
      "image/png": "[encoded data removed]",
      "text/plain": [
       "<Figure size 640x480 with 1 Axes>"
      ]
     },
     "metadata": {},
     "output_type": "display_data"
    }
   ],
   "source": [
    "import seaborn as sns\n",
    "sns.countplot(x=\"ybar\", data = df)"
   ]
  },
  {
   "cell_type": "code",
   "execution_count": 15,
   "id": "5525b842-f143-44bc-97fa-ce4d733436af",
   "metadata": {},
   "outputs": [
    {
     "data": {
      "text/plain": [
       "<Axes: xlabel='xbar', ylabel='count'>"
      ]
     },
     "execution_count": 15,
     "metadata": {},
     "output_type": "execute_result"
    },
    {
     "data": {
      "image/png": "[encoded data removed]",
      "text/plain": [
       "<Figure size 640x480 with 1 Axes>"
      ]
     },
     "metadata": {},
     "output_type": "display_data"
    }
   ],
   "source": [
    "import seaborn as sns\n",
    "sns.countplot(x=\"xbar\", data = df)"
   ]
  },
  {
   "cell_type": "code",
   "execution_count": 16,
   "id": "90107be2-b3f7-4427-b59a-730e125e0b93",
   "metadata": {},
   "outputs": [
    {
     "data": {
      "text/plain": [
       "<Axes: xlabel='ybox', ylabel='count'>"
      ]
     },
     "execution_count": 16,
     "metadata": {},
     "output_type": "execute_result"
    },
    {
     "data": {
      "image/png": "[encoded data removed]",
      "text/plain": [
       "<Figure size 640x480 with 1 Axes>"
      ]
     },
     "metadata": {},
     "output_type": "display_data"
    }
   ],
   "source": [
    "import seaborn as sns\n",
    "sns.countplot(x=\"ybox\", data = df)"
   ]
  },
  {
   "cell_type": "code",
   "execution_count": 17,
   "id": "a8a1da4c-1903-426c-9ba0-1dfd5ed110df",
   "metadata": {},
   "outputs": [
    {
     "data": {
      "text/plain": [
       "<Axes: xlabel='ybox', ylabel='count'>"
      ]
     },
     "execution_count": 17,
     "metadata": {},
     "output_type": "execute_result"
    },
    {
     "data": {
      "image/png": "[encoded data removed]",
      "text/plain": [
       "<Figure size 640x480 with 1 Axes>"
      ]
     },
     "metadata": {},
     "output_type": "display_data"
    }
   ],
   "source": [
    "import seaborn as sns\n",
    "sns.countplot(x=\"ybox\", data = df)"
   ]
  },
  {
   "cell_type": "code",
   "execution_count": 18,
   "id": "14f4d1a8-aa41-4a53-8443-28f78e99e7a3",
   "metadata": {},
   "outputs": [
    {
     "data": {
      "text/plain": [
       "<Axes: xlabel='width', ylabel='count'>"
      ]
     },
     "execution_count": 18,
     "metadata": {},
     "output_type": "execute_result"
    },
    {
     "data": {
      "image/png": "[encoded data removed]",
      "text/plain": [
       "<Figure size 640x480 with 1 Axes>"
      ]
     },
     "metadata": {},
     "output_type": "display_data"
    }
   ],
   "source": [
    "import seaborn as sns\n",
    "sns.countplot(x=\"width\", data = df)"
   ]
  },
  {
   "cell_type": "code",
   "execution_count": 19,
   "id": "8cc2ca20-d7df-468d-bb8b-766a5cd7def0",
   "metadata": {},
   "outputs": [
    {
     "data": {
      "text/plain": [
       "<Axes: xlabel='height', ylabel='count'>"
      ]
     },
     "execution_count": 19,
     "metadata": {},
     "output_type": "execute_result"
    },
    {
     "data": {
      "image/png": "[encoded data removed]",
      "text/plain": [
       "<Figure size 640x480 with 1 Axes>"
      ]
     },
     "metadata": {},
     "output_type": "display_data"
    }
   ],
   "source": [
    "import seaborn as sns\n",
    "sns.countplot(x=\"height\", data = df)"
   ]
  },
  {
   "cell_type": "code",
   "execution_count": 20,
   "id": "10f318a1-e39f-413d-a69f-6ca15feab9fb",
   "metadata": {},
   "outputs": [
    {
     "data": {
      "text/plain": [
       "<Axes: xlabel='onpix', ylabel='count'>"
      ]
     },
     "execution_count": 20,
     "metadata": {},
     "output_type": "execute_result"
    },
    {
     "data": {
      "image/png": "[encoded data removed]",
      "text/plain": [
       "<Figure size 640x480 with 1 Axes>"
      ]
     },
     "metadata": {},
     "output_type": "display_data"
    }
   ],
   "source": [
    "import seaborn as sns\n",
    "sns.countplot(x=\"onpix\", data = df)"
   ]
  },
  {
   "cell_type": "code",
   "execution_count": 21,
   "id": "734e0a24-d149-4e55-a294-d970adfc6569",
   "metadata": {},
   "outputs": [
    {
     "data": {
      "text/plain": [
       "<Axes: xlabel='xbox', ylabel='count'>"
      ]
     },
     "execution_count": 21,
     "metadata": {},
     "output_type": "execute_result"
    },
    {
     "data": {
      "image/png": "[encoded data removed]",
      "text/plain": [
       "<Figure size 640x480 with 1 Axes>"
      ]
     },
     "metadata": {},
     "output_type": "display_data"
    }
   ],
   "source": [
    "import seaborn as sns\n",
    "sns.countplot(x=\"xbox\", data = df)"
   ]
  },
  {
   "cell_type": "code",
   "execution_count": 22,
   "id": "47d6e935-3cf7-4d26-ac8d-a3acac3f4eec",
   "metadata": {},
   "outputs": [
    {
     "data": {
      "text/plain": [
       "<Axes: xlabel='xbox', ylabel='count'>"
      ]
     },
     "execution_count": 22,
     "metadata": {},
     "output_type": "execute_result"
    },
    {
     "data": {
      "image/png": "[encoded data removed]",
      "text/plain": [
       "<Figure size 640x480 with 1 Axes>"
      ]
     },
     "metadata": {},
     "output_type": "display_data"
    }
   ],
   "source": [
    "import seaborn as sns\n",
    "sns.countplot(x=\"xbox\", data = df)"
   ]
  },
  {
   "cell_type": "code",
   "execution_count": 23,
   "id": "bb5467b3-8d06-46ac-a746-26eda0692516",
   "metadata": {},
   "outputs": [
    {
     "name": "stderr",
     "output_type": "stream",
     "text": [
      "C:\\Users\\LOCHAN RISHITHA\\AppData\\Local\\Temp\\ipykernel_16284\\1134722465.py:1: FutureWarning: The default value of numeric_only in DataFrame.corr is deprecated. In a future version, it will default to False. Select only valid columns or specify the value of numeric_only to silence this warning.\n",
      "  df.corr()\n"
     ]
    },
    {
     "data": {
      "text/html": [
       "<div>\n",
       "<style scoped>\n",
       "    .dataframe tbody tr th:only-of-type {\n",
       "        vertical-align: middle;\n",
       "    }\n",
       "\n",
       "    .dataframe tbody tr th {\n",
       "        vertical-align: top;\n",
       "    }\n",
       "\n",
       "    .dataframe thead th {\n",
       "        text-align: right;\n",
       "    }\n",
       "</style>\n",
       "<table border=\"1\" class=\"dataframe\">\n",
       "  <thead>\n",
       "    <tr style=\"text-align: right;\">\n",
       "      <th></th>\n",
       "      <th>xbox</th>\n",
       "      <th>ybox</th>\n",
       "      <th>width</th>\n",
       "      <th>height</th>\n",
       "      <th>onpix</th>\n",
       "      <th>xbar</th>\n",
       "      <th>ybar</th>\n",
       "      <th>x2bar</th>\n",
       "      <th>y2bar</th>\n",
       "      <th>xybar</th>\n",
       "      <th>x2ybar</th>\n",
       "      <th>xy2bar</th>\n",
       "      <th>xedge</th>\n",
       "      <th>xedgey</th>\n",
       "      <th>yedge</th>\n",
       "      <th>yedgex</th>\n",
       "    </tr>\n",
       "  </thead>\n",
       "  <tbody>\n",
       "    <tr>\n",
       "      <th>xbox</th>\n",
       "      <td>1.000000</td>\n",
       "      <td>0.757793</td>\n",
       "      <td>0.851514</td>\n",
       "      <td>0.672764</td>\n",
       "      <td>0.619097</td>\n",
       "      <td>-0.032595</td>\n",
       "      <td>0.045545</td>\n",
       "      <td>0.014306</td>\n",
       "      <td>0.052086</td>\n",
       "      <td>0.148056</td>\n",
       "      <td>0.035464</td>\n",
       "      <td>-0.046333</td>\n",
       "      <td>0.489155</td>\n",
       "      <td>0.098180</td>\n",
       "      <td>0.273504</td>\n",
       "      <td>-0.105147</td>\n",
       "    </tr>\n",
       "    <tr>\n",
       "      <th>ybox</th>\n",
       "      <td>0.757793</td>\n",
       "      <td>1.000000</td>\n",
       "      <td>0.671912</td>\n",
       "      <td>0.823207</td>\n",
       "      <td>0.555067</td>\n",
       "      <td>0.045690</td>\n",
       "      <td>-0.040925</td>\n",
       "      <td>-0.025019</td>\n",
       "      <td>0.096478</td>\n",
       "      <td>0.159954</td>\n",
       "      <td>-0.054648</td>\n",
       "      <td>-0.007568</td>\n",
       "      <td>0.274431</td>\n",
       "      <td>-0.001336</td>\n",
       "      <td>0.230883</td>\n",
       "      <td>-0.042741</td>\n",
       "    </tr>\n",
       "    <tr>\n",
       "      <th>width</th>\n",
       "      <td>0.851514</td>\n",
       "      <td>0.671912</td>\n",
       "      <td>1.000000</td>\n",
       "      <td>0.660215</td>\n",
       "      <td>0.765716</td>\n",
       "      <td>0.061959</td>\n",
       "      <td>0.024832</td>\n",
       "      <td>-0.098611</td>\n",
       "      <td>0.057074</td>\n",
       "      <td>0.115018</td>\n",
       "      <td>0.011694</td>\n",
       "      <td>-0.045009</td>\n",
       "      <td>0.557251</td>\n",
       "      <td>0.045658</td>\n",
       "      <td>0.260285</td>\n",
       "      <td>-0.118273</td>\n",
       "    </tr>\n",
       "    <tr>\n",
       "      <th>height</th>\n",
       "      <td>0.672764</td>\n",
       "      <td>0.823207</td>\n",
       "      <td>0.660215</td>\n",
       "      <td>1.000000</td>\n",
       "      <td>0.644366</td>\n",
       "      <td>0.042844</td>\n",
       "      <td>-0.020072</td>\n",
       "      <td>0.082383</td>\n",
       "      <td>0.059032</td>\n",
       "      <td>0.012458</td>\n",
       "      <td>-0.011991</td>\n",
       "      <td>0.026386</td>\n",
       "      <td>0.265243</td>\n",
       "      <td>0.025359</td>\n",
       "      <td>0.297545</td>\n",
       "      <td>-0.018853</td>\n",
       "    </tr>\n",
       "    <tr>\n",
       "      <th>onpix</th>\n",
       "      <td>0.619097</td>\n",
       "      <td>0.555067</td>\n",
       "      <td>0.765716</td>\n",
       "      <td>0.644366</td>\n",
       "      <td>1.000000</td>\n",
       "      <td>0.139159</td>\n",
       "      <td>-0.028822</td>\n",
       "      <td>-0.011985</td>\n",
       "      <td>-0.065557</td>\n",
       "      <td>-0.069776</td>\n",
       "      <td>-0.072941</td>\n",
       "      <td>-0.038858</td>\n",
       "      <td>0.627507</td>\n",
       "      <td>0.017649</td>\n",
       "      <td>0.492653</td>\n",
       "      <td>-0.062969</td>\n",
       "    </tr>\n",
       "    <tr>\n",
       "      <th>xbar</th>\n",
       "      <td>-0.032595</td>\n",
       "      <td>0.045690</td>\n",
       "      <td>0.061959</td>\n",
       "      <td>0.042844</td>\n",
       "      <td>0.139159</td>\n",
       "      <td>1.000000</td>\n",
       "      <td>-0.356580</td>\n",
       "      <td>-0.053306</td>\n",
       "      <td>-0.122851</td>\n",
       "      <td>0.085963</td>\n",
       "      <td>-0.341957</td>\n",
       "      <td>-0.032115</td>\n",
       "      <td>0.144325</td>\n",
       "      <td>-0.253339</td>\n",
       "      <td>0.127056</td>\n",
       "      <td>0.248816</td>\n",
       "    </tr>\n",
       "    <tr>\n",
       "      <th>ybar</th>\n",
       "      <td>0.045545</td>\n",
       "      <td>-0.040925</td>\n",
       "      <td>0.024832</td>\n",
       "      <td>-0.020072</td>\n",
       "      <td>-0.028822</td>\n",
       "      <td>-0.356580</td>\n",
       "      <td>1.000000</td>\n",
       "      <td>-0.118625</td>\n",
       "      <td>-0.049658</td>\n",
       "      <td>0.178318</td>\n",
       "      <td>0.600397</td>\n",
       "      <td>-0.271649</td>\n",
       "      <td>-0.036722</td>\n",
       "      <td>0.555060</td>\n",
       "      <td>-0.078008</td>\n",
       "      <td>-0.207900</td>\n",
       "    </tr>\n",
       "    <tr>\n",
       "      <th>x2bar</th>\n",
       "      <td>0.014306</td>\n",
       "      <td>-0.025019</td>\n",
       "      <td>-0.098611</td>\n",
       "      <td>0.082383</td>\n",
       "      <td>-0.011985</td>\n",
       "      <td>-0.053306</td>\n",
       "      <td>-0.118625</td>\n",
       "      <td>1.000000</td>\n",
       "      <td>-0.188431</td>\n",
       "      <td>-0.317780</td>\n",
       "      <td>0.042545</td>\n",
       "      <td>0.082020</td>\n",
       "      <td>0.142132</td>\n",
       "      <td>-0.084820</td>\n",
       "      <td>0.006546</td>\n",
       "      <td>0.182902</td>\n",
       "    </tr>\n",
       "    <tr>\n",
       "      <th>y2bar</th>\n",
       "      <td>0.052086</td>\n",
       "      <td>0.096478</td>\n",
       "      <td>0.057074</td>\n",
       "      <td>0.059032</td>\n",
       "      <td>-0.065557</td>\n",
       "      <td>-0.122851</td>\n",
       "      <td>-0.049658</td>\n",
       "      <td>-0.188431</td>\n",
       "      <td>1.000000</td>\n",
       "      <td>0.132000</td>\n",
       "      <td>-0.060116</td>\n",
       "      <td>0.119048</td>\n",
       "      <td>-0.384018</td>\n",
       "      <td>-0.052545</td>\n",
       "      <td>0.277540</td>\n",
       "      <td>-0.061335</td>\n",
       "    </tr>\n",
       "    <tr>\n",
       "      <th>xybar</th>\n",
       "      <td>0.148056</td>\n",
       "      <td>0.159954</td>\n",
       "      <td>0.115018</td>\n",
       "      <td>0.012458</td>\n",
       "      <td>-0.069776</td>\n",
       "      <td>0.085963</td>\n",
       "      <td>0.178318</td>\n",
       "      <td>-0.317780</td>\n",
       "      <td>0.132000</td>\n",
       "      <td>1.000000</td>\n",
       "      <td>0.057988</td>\n",
       "      <td>-0.106759</td>\n",
       "      <td>-0.175676</td>\n",
       "      <td>0.029419</td>\n",
       "      <td>-0.087019</td>\n",
       "      <td>-0.114223</td>\n",
       "    </tr>\n",
       "    <tr>\n",
       "      <th>x2ybar</th>\n",
       "      <td>0.035464</td>\n",
       "      <td>-0.054648</td>\n",
       "      <td>0.011694</td>\n",
       "      <td>-0.011991</td>\n",
       "      <td>-0.072941</td>\n",
       "      <td>-0.341957</td>\n",
       "      <td>0.600397</td>\n",
       "      <td>0.042545</td>\n",
       "      <td>-0.060116</td>\n",
       "      <td>0.057988</td>\n",
       "      <td>1.000000</td>\n",
       "      <td>0.063214</td>\n",
       "      <td>0.053566</td>\n",
       "      <td>0.527239</td>\n",
       "      <td>-0.226251</td>\n",
       "      <td>-0.236518</td>\n",
       "    </tr>\n",
       "    <tr>\n",
       "      <th>xy2bar</th>\n",
       "      <td>-0.046333</td>\n",
       "      <td>-0.007568</td>\n",
       "      <td>-0.045009</td>\n",
       "      <td>0.026386</td>\n",
       "      <td>-0.038858</td>\n",
       "      <td>-0.032115</td>\n",
       "      <td>-0.271649</td>\n",
       "      <td>0.082020</td>\n",
       "      <td>0.119048</td>\n",
       "      <td>-0.106759</td>\n",
       "      <td>0.063214</td>\n",
       "      <td>1.000000</td>\n",
       "      <td>-0.008753</td>\n",
       "      <td>-0.184927</td>\n",
       "      <td>0.049695</td>\n",
       "      <td>0.245808</td>\n",
       "    </tr>\n",
       "    <tr>\n",
       "      <th>xedge</th>\n",
       "      <td>0.489155</td>\n",
       "      <td>0.274431</td>\n",
       "      <td>0.557251</td>\n",
       "      <td>0.265243</td>\n",
       "      <td>0.627507</td>\n",
       "      <td>0.144325</td>\n",
       "      <td>-0.036722</td>\n",
       "      <td>0.142132</td>\n",
       "      <td>-0.384018</td>\n",
       "      <td>-0.175676</td>\n",
       "      <td>0.053566</td>\n",
       "      <td>-0.008753</td>\n",
       "      <td>1.000000</td>\n",
       "      <td>0.002849</td>\n",
       "      <td>0.108411</td>\n",
       "      <td>-0.049789</td>\n",
       "    </tr>\n",
       "    <tr>\n",
       "      <th>xedgey</th>\n",
       "      <td>0.098180</td>\n",
       "      <td>-0.001336</td>\n",
       "      <td>0.045658</td>\n",
       "      <td>0.025359</td>\n",
       "      <td>0.017649</td>\n",
       "      <td>-0.253339</td>\n",
       "      <td>0.555060</td>\n",
       "      <td>-0.084820</td>\n",
       "      <td>-0.052545</td>\n",
       "      <td>0.029419</td>\n",
       "      <td>0.527239</td>\n",
       "      <td>-0.184927</td>\n",
       "      <td>0.002849</td>\n",
       "      <td>1.000000</td>\n",
       "      <td>-0.064402</td>\n",
       "      <td>-0.187591</td>\n",
       "    </tr>\n",
       "    <tr>\n",
       "      <th>yedge</th>\n",
       "      <td>0.273504</td>\n",
       "      <td>0.230883</td>\n",
       "      <td>0.260285</td>\n",
       "      <td>0.297545</td>\n",
       "      <td>0.492653</td>\n",
       "      <td>0.127056</td>\n",
       "      <td>-0.078008</td>\n",
       "      <td>0.006546</td>\n",
       "      <td>0.277540</td>\n",
       "      <td>-0.087019</td>\n",
       "      <td>-0.226251</td>\n",
       "      <td>0.049695</td>\n",
       "      <td>0.108411</td>\n",
       "      <td>-0.064402</td>\n",
       "      <td>1.000000</td>\n",
       "      <td>0.143588</td>\n",
       "    </tr>\n",
       "    <tr>\n",
       "      <th>yedgex</th>\n",
       "      <td>-0.105147</td>\n",
       "      <td>-0.042741</td>\n",
       "      <td>-0.118273</td>\n",
       "      <td>-0.018853</td>\n",
       "      <td>-0.062969</td>\n",
       "      <td>0.248816</td>\n",
       "      <td>-0.207900</td>\n",
       "      <td>0.182902</td>\n",
       "      <td>-0.061335</td>\n",
       "      <td>-0.114223</td>\n",
       "      <td>-0.236518</td>\n",
       "      <td>0.245808</td>\n",
       "      <td>-0.049789</td>\n",
       "      <td>-0.187591</td>\n",
       "      <td>0.143588</td>\n",
       "      <td>1.000000</td>\n",
       "    </tr>\n",
       "  </tbody>\n",
       "</table>\n",
       "</div>"
      ],
      "text/plain": [
       "            xbox      ybox     width    height     onpix      xbar      ybar  \\\n",
       "xbox    1.000000  0.757793  0.851514  0.672764  0.619097 -0.032595  0.045545   \n",
       "ybox    0.757793  1.000000  0.671912  0.823207  0.555067  0.045690 -0.040925   \n",
       "width   0.851514  0.671912  1.000000  0.660215  0.765716  0.061959  0.024832   \n",
       "height  0.672764  0.823207  0.660215  1.000000  0.644366  0.042844 -0.020072   \n",
       "onpix   0.619097  0.555067  0.765716  0.644366  1.000000  0.139159 -0.028822   \n",
       "xbar   -0.032595  0.045690  0.061959  0.042844  0.139159  1.000000 -0.356580   \n",
       "ybar    0.045545 -0.040925  0.024832 -0.020072 -0.028822 -0.356580  1.000000   \n",
       "x2bar   0.014306 -0.025019 -0.098611  0.082383 -0.011985 -0.053306 -0.118625   \n",
       "y2bar   0.052086  0.096478  0.057074  0.059032 -0.065557 -0.122851 -0.049658   \n",
       "xybar   0.148056  0.159954  0.115018  0.012458 -0.069776  0.085963  0.178318   \n",
       "x2ybar  0.035464 -0.054648  0.011694 -0.011991 -0.072941 -0.341957  0.600397   \n",
       "xy2bar -0.046333 -0.007568 -0.045009  0.026386 -0.038858 -0.032115 -0.271649   \n",
       "xedge   0.489155  0.274431  0.557251  0.265243  0.627507  0.144325 -0.036722   \n",
       "xedgey  0.098180 -0.001336  0.045658  0.025359  0.017649 -0.253339  0.555060   \n",
       "yedge   0.273504  0.230883  0.260285  0.297545  0.492653  0.127056 -0.078008   \n",
       "yedgex -0.105147 -0.042741 -0.118273 -0.018853 -0.062969  0.248816 -0.207900   \n",
       "\n",
       "           x2bar     y2bar     xybar    x2ybar    xy2bar     xedge    xedgey  \\\n",
       "xbox    0.014306  0.052086  0.148056  0.035464 -0.046333  0.489155  0.098180   \n",
       "ybox   -0.025019  0.096478  0.159954 -0.054648 -0.007568  0.274431 -0.001336   \n",
       "width  -0.098611  0.057074  0.115018  0.011694 -0.045009  0.557251  0.045658   \n",
       "height  0.082383  0.059032  0.012458 -0.011991  0.026386  0.265243  0.025359   \n",
       "onpix  -0.011985 -0.065557 -0.069776 -0.072941 -0.038858  0.627507  0.017649   \n",
       "xbar   -0.053306 -0.122851  0.085963 -0.341957 -0.032115  0.144325 -0.253339   \n",
       "ybar   -0.118625 -0.049658  0.178318  0.600397 -0.271649 -0.036722  0.555060   \n",
       "x2bar   1.000000 -0.188431 -0.317780  0.042545  0.082020  0.142132 -0.084820   \n",
       "y2bar  -0.188431  1.000000  0.132000 -0.060116  0.119048 -0.384018 -0.052545   \n",
       "xybar  -0.317780  0.132000  1.000000  0.057988 -0.106759 -0.175676  0.029419   \n",
       "x2ybar  0.042545 -0.060116  0.057988  1.000000  0.063214  0.053566  0.527239   \n",
       "xy2bar  0.082020  0.119048 -0.106759  0.063214  1.000000 -0.008753 -0.184927   \n",
       "xedge   0.142132 -0.384018 -0.175676  0.053566 -0.008753  1.000000  0.002849   \n",
       "xedgey -0.084820 -0.052545  0.029419  0.527239 -0.184927  0.002849  1.000000   \n",
       "yedge   0.006546  0.277540 -0.087019 -0.226251  0.049695  0.108411 -0.064402   \n",
       "yedgex  0.182902 -0.061335 -0.114223 -0.236518  0.245808 -0.049789 -0.187591   \n",
       "\n",
       "           yedge    yedgex  \n",
       "xbox    0.273504 -0.105147  \n",
       "ybox    0.230883 -0.042741  \n",
       "width   0.260285 -0.118273  \n",
       "height  0.297545 -0.018853  \n",
       "onpix   0.492653 -0.062969  \n",
       "xbar    0.127056  0.248816  \n",
       "ybar   -0.078008 -0.207900  \n",
       "x2bar   0.006546  0.182902  \n",
       "y2bar   0.277540 -0.061335  \n",
       "xybar  -0.087019 -0.114223  \n",
       "x2ybar -0.226251 -0.236518  \n",
       "xy2bar  0.049695  0.245808  \n",
       "xedge   0.108411 -0.049789  \n",
       "xedgey -0.064402 -0.187591  \n",
       "yedge   1.000000  0.143588  \n",
       "yedgex  0.143588  1.000000  "
      ]
     },
     "execution_count": 23,
     "metadata": {},
     "output_type": "execute_result"
    }
   ],
   "source": [
    "df.corr()"
   ]
  },
  {
   "cell_type": "code",
   "execution_count": 24,
   "id": "f16487aa-3edf-437d-bb69-25e061c785a7",
   "metadata": {},
   "outputs": [
    {
     "name": "stderr",
     "output_type": "stream",
     "text": [
      "C:\\Users\\LOCHAN RISHITHA\\AppData\\Local\\Temp\\ipykernel_16284\\4178445682.py:2: FutureWarning: The default value of numeric_only in DataFrame.corr is deprecated. In a future version, it will default to False. Select only valid columns or specify the value of numeric_only to silence this warning.\n",
      "  sns.heatmap(df.corr())\n"
     ]
    },
    {
     "data": {
      "text/plain": [
       "<Axes: >"
      ]
     },
     "execution_count": 24,
     "metadata": {},
     "output_type": "execute_result"
    },
    {
     "data": {
      "image/png": "[encoded data removed]",
      "text/plain": [
       "<Figure size 640x480 with 2 Axes>"
      ]
     },
     "metadata": {},
     "output_type": "display_data"
    }
   ],
   "source": [
    "#create the heatmap for the correlaton\n",
    "sns.heatmap(df.corr())"
   ]
  },
  {
   "cell_type": "code",
   "execution_count": null,
   "id": "da623258-9e50-4b7a-81b6-5bc8358268c9",
   "metadata": {},
   "outputs": [],
   "source": [
    "#DataTransformation"
   ]
  },
  {
   "cell_type": "code",
   "execution_count": 26,
   "id": "b8d3ca7e-f2cc-4c03-b9e3-af04b63f91c4",
   "metadata": {},
   "outputs": [],
   "source": [
    "import pandas as pd\n",
    "from sklearn.preprocessing import MinMaxScaler, OneHotEncoder\n",
    "\n",
    "\n",
    "# Normalize the feature columns using MinMaxScaler\n",
    "scaler = MinMaxScaler()\n",
    "features = df.drop(columns='letter')\n",
    "normalized_features = scaler.fit_transform(features)\n"
   ]
  },
  {
   "cell_type": "code",
   "execution_count": 27,
   "id": "4fea9238-0b49-4592-8e32-c116720fa134",
   "metadata": {},
   "outputs": [
    {
     "name": "stderr",
     "output_type": "stream",
     "text": [
      "C:\\Users\\LOCHAN RISHITHA\\anaconda3\\Lib\\site-packages\\sklearn\\preprocessing\\_encoders.py:868: FutureWarning: `sparse` was renamed to `sparse_output` in version 1.2 and will be removed in 1.4. `sparse_output` is ignored unless you leave `sparse` to its default value.\n",
      "  warnings.warn(\n"
     ]
    }
   ],
   "source": [
    "# Reshape the labels to a 2D array for OneHotEncoder\n",
    "labels = df['letter'].values.reshape(-1, 1)\n",
    "\n",
    "# One-hot encode the class labels\n",
    "encoder = OneHotEncoder(sparse=False)\n",
    "encoded_labels = encoder.fit_transform(labels)"
   ]
  },
  {
   "cell_type": "code",
   "execution_count": 28,
   "id": "8c7558fd-30c8-4da8-86b3-f16583ba3cbc",
   "metadata": {},
   "outputs": [],
   "source": [
    "# Combine normalized features and encoded labels into a DataFrame\n",
    "preprocessed_data = pd.DataFrame(normalized_features, columns=features.columns)\n",
    "encoded_labels_df = pd.DataFrame(encoded_labels, columns=encoder.get_feature_names_out(['letter']))\n",
    "preprocessed_data = pd.concat([preprocessed_data, encoded_labels_df], axis=1)\n"
   ]
  },
  {
   "cell_type": "code",
   "execution_count": 29,
   "id": "7a244826-04fc-4904-8764-1798df86f7b5",
   "metadata": {},
   "outputs": [
    {
     "data": {
      "text/html": [
       "<div>\n",
       "<style scoped>\n",
       "    .dataframe tbody tr th:only-of-type {\n",
       "        vertical-align: middle;\n",
       "    }\n",
       "\n",
       "    .dataframe tbody tr th {\n",
       "        vertical-align: top;\n",
       "    }\n",
       "\n",
       "    .dataframe thead th {\n",
       "        text-align: right;\n",
       "    }\n",
       "</style>\n",
       "<table border=\"1\" class=\"dataframe\">\n",
       "  <thead>\n",
       "    <tr style=\"text-align: right;\">\n",
       "      <th></th>\n",
       "      <th>xbox</th>\n",
       "      <th>ybox</th>\n",
       "      <th>width</th>\n",
       "      <th>height</th>\n",
       "      <th>onpix</th>\n",
       "      <th>xbar</th>\n",
       "      <th>ybar</th>\n",
       "      <th>x2bar</th>\n",
       "      <th>y2bar</th>\n",
       "      <th>xybar</th>\n",
       "      <th>...</th>\n",
       "      <th>letter_Q</th>\n",
       "      <th>letter_R</th>\n",
       "      <th>letter_S</th>\n",
       "      <th>letter_T</th>\n",
       "      <th>letter_U</th>\n",
       "      <th>letter_V</th>\n",
       "      <th>letter_W</th>\n",
       "      <th>letter_X</th>\n",
       "      <th>letter_Y</th>\n",
       "      <th>letter_Z</th>\n",
       "    </tr>\n",
       "  </thead>\n",
       "  <tbody>\n",
       "    <tr>\n",
       "      <th>0</th>\n",
       "      <td>0.133333</td>\n",
       "      <td>0.533333</td>\n",
       "      <td>0.2</td>\n",
       "      <td>0.333333</td>\n",
       "      <td>0.066667</td>\n",
       "      <td>0.533333</td>\n",
       "      <td>0.866667</td>\n",
       "      <td>0.000000</td>\n",
       "      <td>0.400000</td>\n",
       "      <td>0.400000</td>\n",
       "      <td>...</td>\n",
       "      <td>0.0</td>\n",
       "      <td>0.0</td>\n",
       "      <td>0.0</td>\n",
       "      <td>1.0</td>\n",
       "      <td>0.0</td>\n",
       "      <td>0.0</td>\n",
       "      <td>0.0</td>\n",
       "      <td>0.0</td>\n",
       "      <td>0.0</td>\n",
       "      <td>0.0</td>\n",
       "    </tr>\n",
       "    <tr>\n",
       "      <th>1</th>\n",
       "      <td>0.333333</td>\n",
       "      <td>0.800000</td>\n",
       "      <td>0.2</td>\n",
       "      <td>0.466667</td>\n",
       "      <td>0.133333</td>\n",
       "      <td>0.666667</td>\n",
       "      <td>0.333333</td>\n",
       "      <td>0.333333</td>\n",
       "      <td>0.266667</td>\n",
       "      <td>0.866667</td>\n",
       "      <td>...</td>\n",
       "      <td>0.0</td>\n",
       "      <td>0.0</td>\n",
       "      <td>0.0</td>\n",
       "      <td>0.0</td>\n",
       "      <td>0.0</td>\n",
       "      <td>0.0</td>\n",
       "      <td>0.0</td>\n",
       "      <td>0.0</td>\n",
       "      <td>0.0</td>\n",
       "      <td>0.0</td>\n",
       "    </tr>\n",
       "    <tr>\n",
       "      <th>2</th>\n",
       "      <td>0.266667</td>\n",
       "      <td>0.733333</td>\n",
       "      <td>0.4</td>\n",
       "      <td>0.533333</td>\n",
       "      <td>0.400000</td>\n",
       "      <td>0.666667</td>\n",
       "      <td>0.400000</td>\n",
       "      <td>0.133333</td>\n",
       "      <td>0.400000</td>\n",
       "      <td>0.666667</td>\n",
       "      <td>...</td>\n",
       "      <td>0.0</td>\n",
       "      <td>0.0</td>\n",
       "      <td>0.0</td>\n",
       "      <td>0.0</td>\n",
       "      <td>0.0</td>\n",
       "      <td>0.0</td>\n",
       "      <td>0.0</td>\n",
       "      <td>0.0</td>\n",
       "      <td>0.0</td>\n",
       "      <td>0.0</td>\n",
       "    </tr>\n",
       "    <tr>\n",
       "      <th>3</th>\n",
       "      <td>0.466667</td>\n",
       "      <td>0.733333</td>\n",
       "      <td>0.4</td>\n",
       "      <td>0.400000</td>\n",
       "      <td>0.200000</td>\n",
       "      <td>0.333333</td>\n",
       "      <td>0.600000</td>\n",
       "      <td>0.266667</td>\n",
       "      <td>0.400000</td>\n",
       "      <td>0.266667</td>\n",
       "      <td>...</td>\n",
       "      <td>0.0</td>\n",
       "      <td>0.0</td>\n",
       "      <td>0.0</td>\n",
       "      <td>0.0</td>\n",
       "      <td>0.0</td>\n",
       "      <td>0.0</td>\n",
       "      <td>0.0</td>\n",
       "      <td>0.0</td>\n",
       "      <td>0.0</td>\n",
       "      <td>0.0</td>\n",
       "    </tr>\n",
       "    <tr>\n",
       "      <th>4</th>\n",
       "      <td>0.133333</td>\n",
       "      <td>0.066667</td>\n",
       "      <td>0.2</td>\n",
       "      <td>0.066667</td>\n",
       "      <td>0.066667</td>\n",
       "      <td>0.533333</td>\n",
       "      <td>0.400000</td>\n",
       "      <td>0.400000</td>\n",
       "      <td>0.400000</td>\n",
       "      <td>0.400000</td>\n",
       "      <td>...</td>\n",
       "      <td>0.0</td>\n",
       "      <td>0.0</td>\n",
       "      <td>0.0</td>\n",
       "      <td>0.0</td>\n",
       "      <td>0.0</td>\n",
       "      <td>0.0</td>\n",
       "      <td>0.0</td>\n",
       "      <td>0.0</td>\n",
       "      <td>0.0</td>\n",
       "      <td>0.0</td>\n",
       "    </tr>\n",
       "  </tbody>\n",
       "</table>\n",
       "<p>5 rows × 42 columns</p>\n",
       "</div>"
      ],
      "text/plain": [
       "       xbox      ybox  width    height     onpix      xbar      ybar  \\\n",
       "0  0.133333  0.533333    0.2  0.333333  0.066667  0.533333  0.866667   \n",
       "1  0.333333  0.800000    0.2  0.466667  0.133333  0.666667  0.333333   \n",
       "2  0.266667  0.733333    0.4  0.533333  0.400000  0.666667  0.400000   \n",
       "3  0.466667  0.733333    0.4  0.400000  0.200000  0.333333  0.600000   \n",
       "4  0.133333  0.066667    0.2  0.066667  0.066667  0.533333  0.400000   \n",
       "\n",
       "      x2bar     y2bar     xybar  ...  letter_Q  letter_R  letter_S  letter_T  \\\n",
       "0  0.000000  0.400000  0.400000  ...       0.0       0.0       0.0       1.0   \n",
       "1  0.333333  0.266667  0.866667  ...       0.0       0.0       0.0       0.0   \n",
       "2  0.133333  0.400000  0.666667  ...       0.0       0.0       0.0       0.0   \n",
       "3  0.266667  0.400000  0.266667  ...       0.0       0.0       0.0       0.0   \n",
       "4  0.400000  0.400000  0.400000  ...       0.0       0.0       0.0       0.0   \n",
       "\n",
       "   letter_U  letter_V  letter_W  letter_X  letter_Y  letter_Z  \n",
       "0       0.0       0.0       0.0       0.0       0.0       0.0  \n",
       "1       0.0       0.0       0.0       0.0       0.0       0.0  \n",
       "2       0.0       0.0       0.0       0.0       0.0       0.0  \n",
       "3       0.0       0.0       0.0       0.0       0.0       0.0  \n",
       "4       0.0       0.0       0.0       0.0       0.0       0.0  \n",
       "\n",
       "[5 rows x 42 columns]"
      ]
     },
     "execution_count": 29,
     "metadata": {},
     "output_type": "execute_result"
    }
   ],
   "source": [
    "# Display the first few rows of the preprocessed data\n",
    "preprocessed_data.head()"
   ]
  },
  {
   "cell_type": "code",
   "execution_count": 30,
   "id": "ade44c21-e1a4-4ed6-874f-6ea228056eb7",
   "metadata": {},
   "outputs": [],
   "source": [
    "from sklearn.model_selection import train_test_split\n",
    "\n",
    "# Separate features and labels\n",
    "X = preprocessed_data.drop(columns=encoder.get_feature_names_out(['letter']))\n",
    "y = preprocessed_data[encoder.get_feature_names_out(['letter'])]\n",
    "\n",
    "# Split the dataset into training and testing sets\n",
    "X_train, X_test, y_train, y_test = train_test_split(X, y, test_size=0.2, random_state=42)"
   ]
  },
  {
   "cell_type": "code",
   "execution_count": null,
   "id": "a7ca358b-8e19-4909-bb50-6fcccc598d54",
   "metadata": {},
   "outputs": [],
   "source": [
    "#Construct a basic ANN model using your chosen high-level neural network library. Ensure your model includes at least one hidden layer.\n",
    "#Divide the dataset into training and test sets.\n",
    "#Train your model on the training set and then use it to make predictions on the test set\n"
   ]
  },
  {
   "cell_type": "code",
   "execution_count": 31,
   "id": "81e9d145-5ed1-441a-b576-01ad2060efb0",
   "metadata": {},
   "outputs": [
    {
     "name": "stderr",
     "output_type": "stream",
     "text": [
      "C:\\Users\\LOCHAN RISHITHA\\anaconda3\\Lib\\site-packages\\keras\\src\\layers\\core\\dense.py:87: UserWarning: Do not pass an `input_shape`/`input_dim` argument to a layer. When using Sequential models, prefer using an `Input(shape)` object as the first layer in the model instead.\n",
      "  super().__init__(activity_regularizer=activity_regularizer, **kwargs)\n"
     ]
    },
    {
     "name": "stdout",
     "output_type": "stream",
     "text": [
      "Epoch 1/20\n",
      "\u001b[1m400/400\u001b[0m \u001b[32m━━━━━━━━━━━━━━━━━━━━\u001b[0m\u001b[37m\u001b[0m \u001b[1m5s\u001b[0m 5ms/step - accuracy: 0.1596 - loss: 3.0757 - val_accuracy: 0.4363 - val_loss: 2.0747\n",
      "Epoch 2/20\n",
      "\u001b[1m400/400\u001b[0m \u001b[32m━━━━━━━━━━━━━━━━━━━━\u001b[0m\u001b[37m\u001b[0m \u001b[1m2s\u001b[0m 3ms/step - accuracy: 0.4740 - loss: 1.8917 - val_accuracy: 0.5609 - val_loss: 1.6327\n",
      "Epoch 3/20\n",
      "\u001b[1m400/400\u001b[0m \u001b[32m━━━━━━━━━━━━━━━━━━━━\u001b[0m\u001b[37m\u001b[0m \u001b[1m1s\u001b[0m 3ms/step - accuracy: 0.5661 - loss: 1.5461 - val_accuracy: 0.5853 - val_loss: 1.4797\n",
      "Epoch 4/20\n",
      "\u001b[1m400/400\u001b[0m \u001b[32m━━━━━━━━━━━━━━━━━━━━\u001b[0m\u001b[37m\u001b[0m \u001b[1m1s\u001b[0m 4ms/step - accuracy: 0.6117 - loss: 1.4099 - val_accuracy: 0.6097 - val_loss: 1.3956\n",
      "Epoch 5/20\n",
      "\u001b[1m400/400\u001b[0m \u001b[32m━━━━━━━━━━━━━━━━━━━━\u001b[0m\u001b[37m\u001b[0m \u001b[1m1s\u001b[0m 3ms/step - accuracy: 0.6258 - loss: 1.3184 - val_accuracy: 0.6531 - val_loss: 1.2989\n",
      "Epoch 6/20\n",
      "\u001b[1m400/400\u001b[0m \u001b[32m━━━━━━━━━━━━━━━━━━━━\u001b[0m\u001b[37m\u001b[0m \u001b[1m1s\u001b[0m 3ms/step - accuracy: 0.6528 - loss: 1.2458 - val_accuracy: 0.6678 - val_loss: 1.2318\n",
      "Epoch 7/20\n",
      "\u001b[1m400/400\u001b[0m \u001b[32m━━━━━━━━━━━━━━━━━━━━\u001b[0m\u001b[37m\u001b[0m \u001b[1m2s\u001b[0m 4ms/step - accuracy: 0.6715 - loss: 1.2007 - val_accuracy: 0.6772 - val_loss: 1.1893\n",
      "Epoch 8/20\n",
      "\u001b[1m400/400\u001b[0m \u001b[32m━━━━━━━━━━━━━━━━━━━━\u001b[0m\u001b[37m\u001b[0m \u001b[1m2s\u001b[0m 4ms/step - accuracy: 0.6904 - loss: 1.1295 - val_accuracy: 0.6850 - val_loss: 1.1517\n",
      "Epoch 9/20\n",
      "\u001b[1m400/400\u001b[0m \u001b[32m━━━━━━━━━━━━━━━━━━━━\u001b[0m\u001b[37m\u001b[0m \u001b[1m2s\u001b[0m 4ms/step - accuracy: 0.7064 - loss: 1.0733 - val_accuracy: 0.6972 - val_loss: 1.1156\n",
      "Epoch 10/20\n",
      "\u001b[1m400/400\u001b[0m \u001b[32m━━━━━━━━━━━━━━━━━━━━\u001b[0m\u001b[37m\u001b[0m \u001b[1m1s\u001b[0m 3ms/step - accuracy: 0.7078 - loss: 1.0571 - val_accuracy: 0.7131 - val_loss: 1.0767\n",
      "Epoch 11/20\n",
      "\u001b[1m400/400\u001b[0m \u001b[32m━━━━━━━━━━━━━━━━━━━━\u001b[0m\u001b[37m\u001b[0m \u001b[1m1s\u001b[0m 4ms/step - accuracy: 0.7324 - loss: 1.0087 - val_accuracy: 0.7237 - val_loss: 1.0413\n",
      "Epoch 12/20\n",
      "\u001b[1m400/400\u001b[0m \u001b[32m━━━━━━━━━━━━━━━━━━━━\u001b[0m\u001b[37m\u001b[0m \u001b[1m1s\u001b[0m 4ms/step - accuracy: 0.7246 - loss: 1.0113 - val_accuracy: 0.7184 - val_loss: 1.0174\n",
      "Epoch 13/20\n",
      "\u001b[1m400/400\u001b[0m \u001b[32m━━━━━━━━━━━━━━━━━━━━\u001b[0m\u001b[37m\u001b[0m \u001b[1m2s\u001b[0m 4ms/step - accuracy: 0.7355 - loss: 0.9681 - val_accuracy: 0.7328 - val_loss: 0.9943\n",
      "Epoch 14/20\n",
      "\u001b[1m400/400\u001b[0m \u001b[32m━━━━━━━━━━━━━━━━━━━━\u001b[0m\u001b[37m\u001b[0m \u001b[1m1s\u001b[0m 4ms/step - accuracy: 0.7468 - loss: 0.9266 - val_accuracy: 0.7325 - val_loss: 0.9840\n",
      "Epoch 15/20\n",
      "\u001b[1m400/400\u001b[0m \u001b[32m━━━━━━━━━━━━━━━━━━━━\u001b[0m\u001b[37m\u001b[0m \u001b[1m1s\u001b[0m 4ms/step - accuracy: 0.7457 - loss: 0.9233 - val_accuracy: 0.7475 - val_loss: 0.9500\n",
      "Epoch 16/20\n",
      "\u001b[1m400/400\u001b[0m \u001b[32m━━━━━━━━━━━━━━━━━━━━\u001b[0m\u001b[37m\u001b[0m \u001b[1m1s\u001b[0m 4ms/step - accuracy: 0.7611 - loss: 0.8876 - val_accuracy: 0.7547 - val_loss: 0.9312\n",
      "Epoch 17/20\n",
      "\u001b[1m400/400\u001b[0m \u001b[32m━━━━━━━━━━━━━━━━━━━━\u001b[0m\u001b[37m\u001b[0m \u001b[1m1s\u001b[0m 3ms/step - accuracy: 0.7516 - loss: 0.9024 - val_accuracy: 0.7538 - val_loss: 0.9177\n",
      "Epoch 18/20\n",
      "\u001b[1m400/400\u001b[0m \u001b[32m━━━━━━━━━━━━━━━━━━━━\u001b[0m\u001b[37m\u001b[0m \u001b[1m2s\u001b[0m 4ms/step - accuracy: 0.7620 - loss: 0.8542 - val_accuracy: 0.7597 - val_loss: 0.9084\n",
      "Epoch 19/20\n",
      "\u001b[1m400/400\u001b[0m \u001b[32m━━━━━━━━━━━━━━━━━━━━\u001b[0m\u001b[37m\u001b[0m \u001b[1m2s\u001b[0m 4ms/step - accuracy: 0.7655 - loss: 0.8449 - val_accuracy: 0.7569 - val_loss: 0.8873\n",
      "Epoch 20/20\n",
      "\u001b[1m400/400\u001b[0m \u001b[32m━━━━━━━━━━━━━━━━━━━━\u001b[0m\u001b[37m\u001b[0m \u001b[1m2s\u001b[0m 4ms/step - accuracy: 0.7674 - loss: 0.8444 - val_accuracy: 0.7625 - val_loss: 0.8691\n"
     ]
    },
    {
     "data": {
      "text/plain": [
       "<keras.src.callbacks.history.History at 0x1dd4af8d450>"
      ]
     },
     "execution_count": 31,
     "metadata": {},
     "output_type": "execute_result"
    }
   ],
   "source": [
    "import tensorflow as tf\n",
    "from tensorflow.keras.models import Sequential\n",
    "from tensorflow.keras.layers import Dense\n",
    "\n",
    "# Define the default model\n",
    "default_model = Sequential([\n",
    "    Dense(64, input_dim=X_train.shape[1], activation='relu'),\n",
    "    Dense(32, activation='relu'),\n",
    "    Dense(y_train.shape[1], activation='softmax')\n",
    "])\n",
    "\n",
    "# Compile the model\n",
    "default_model.compile(optimizer='adam', loss='categorical_crossentropy', metrics=['accuracy'])\n",
    "\n",
    "# Train the model\n",
    "default_model.fit(X_train, y_train, epochs=20, batch_size=32, validation_split=0.2)\n"
   ]
  },
  {
   "cell_type": "code",
   "execution_count": 33,
   "id": "d7b5eaf5-61ed-4739-a161-86d8a9f716e6",
   "metadata": {},
   "outputs": [
    {
     "data": {
      "text/html": [
       "<div>\n",
       "<style scoped>\n",
       "    .dataframe tbody tr th:only-of-type {\n",
       "        vertical-align: middle;\n",
       "    }\n",
       "\n",
       "    .dataframe tbody tr th {\n",
       "        vertical-align: top;\n",
       "    }\n",
       "\n",
       "    .dataframe thead th {\n",
       "        text-align: right;\n",
       "    }\n",
       "</style>\n",
       "<table border=\"1\" class=\"dataframe\">\n",
       "  <thead>\n",
       "    <tr style=\"text-align: right;\">\n",
       "      <th></th>\n",
       "      <th>accuracy</th>\n",
       "      <th>loss</th>\n",
       "      <th>val_accuracy</th>\n",
       "      <th>val_loss</th>\n",
       "    </tr>\n",
       "  </thead>\n",
       "  <tbody>\n",
       "    <tr>\n",
       "      <th>0</th>\n",
       "      <td>0.259844</td>\n",
       "      <td>2.759203</td>\n",
       "      <td>0.436250</td>\n",
       "      <td>2.074733</td>\n",
       "    </tr>\n",
       "    <tr>\n",
       "      <th>1</th>\n",
       "      <td>0.500625</td>\n",
       "      <td>1.776590</td>\n",
       "      <td>0.560938</td>\n",
       "      <td>1.632695</td>\n",
       "    </tr>\n",
       "    <tr>\n",
       "      <th>2</th>\n",
       "      <td>0.569844</td>\n",
       "      <td>1.513755</td>\n",
       "      <td>0.585312</td>\n",
       "      <td>1.479726</td>\n",
       "    </tr>\n",
       "    <tr>\n",
       "      <th>3</th>\n",
       "      <td>0.615000</td>\n",
       "      <td>1.382590</td>\n",
       "      <td>0.609688</td>\n",
       "      <td>1.395647</td>\n",
       "    </tr>\n",
       "    <tr>\n",
       "      <th>4</th>\n",
       "      <td>0.638594</td>\n",
       "      <td>1.292675</td>\n",
       "      <td>0.653125</td>\n",
       "      <td>1.298887</td>\n",
       "    </tr>\n",
       "    <tr>\n",
       "      <th>5</th>\n",
       "      <td>0.660156</td>\n",
       "      <td>1.222129</td>\n",
       "      <td>0.667813</td>\n",
       "      <td>1.231754</td>\n",
       "    </tr>\n",
       "    <tr>\n",
       "      <th>6</th>\n",
       "      <td>0.681250</td>\n",
       "      <td>1.162865</td>\n",
       "      <td>0.677188</td>\n",
       "      <td>1.189319</td>\n",
       "    </tr>\n",
       "    <tr>\n",
       "      <th>7</th>\n",
       "      <td>0.692500</td>\n",
       "      <td>1.117792</td>\n",
       "      <td>0.685000</td>\n",
       "      <td>1.151732</td>\n",
       "    </tr>\n",
       "    <tr>\n",
       "      <th>8</th>\n",
       "      <td>0.707109</td>\n",
       "      <td>1.074172</td>\n",
       "      <td>0.697187</td>\n",
       "      <td>1.115610</td>\n",
       "    </tr>\n",
       "    <tr>\n",
       "      <th>9</th>\n",
       "      <td>0.713125</td>\n",
       "      <td>1.043728</td>\n",
       "      <td>0.713125</td>\n",
       "      <td>1.076697</td>\n",
       "    </tr>\n",
       "    <tr>\n",
       "      <th>10</th>\n",
       "      <td>0.726875</td>\n",
       "      <td>1.013643</td>\n",
       "      <td>0.723750</td>\n",
       "      <td>1.041334</td>\n",
       "    </tr>\n",
       "    <tr>\n",
       "      <th>11</th>\n",
       "      <td>0.730625</td>\n",
       "      <td>0.989452</td>\n",
       "      <td>0.718437</td>\n",
       "      <td>1.017350</td>\n",
       "    </tr>\n",
       "    <tr>\n",
       "      <th>12</th>\n",
       "      <td>0.734297</td>\n",
       "      <td>0.966218</td>\n",
       "      <td>0.732813</td>\n",
       "      <td>0.994253</td>\n",
       "    </tr>\n",
       "    <tr>\n",
       "      <th>13</th>\n",
       "      <td>0.741641</td>\n",
       "      <td>0.945283</td>\n",
       "      <td>0.732500</td>\n",
       "      <td>0.983960</td>\n",
       "    </tr>\n",
       "    <tr>\n",
       "      <th>14</th>\n",
       "      <td>0.749375</td>\n",
       "      <td>0.922680</td>\n",
       "      <td>0.747500</td>\n",
       "      <td>0.950007</td>\n",
       "    </tr>\n",
       "    <tr>\n",
       "      <th>15</th>\n",
       "      <td>0.751641</td>\n",
       "      <td>0.905439</td>\n",
       "      <td>0.754687</td>\n",
       "      <td>0.931223</td>\n",
       "    </tr>\n",
       "    <tr>\n",
       "      <th>16</th>\n",
       "      <td>0.756406</td>\n",
       "      <td>0.888994</td>\n",
       "      <td>0.753750</td>\n",
       "      <td>0.917744</td>\n",
       "    </tr>\n",
       "    <tr>\n",
       "      <th>17</th>\n",
       "      <td>0.760391</td>\n",
       "      <td>0.869575</td>\n",
       "      <td>0.759687</td>\n",
       "      <td>0.908383</td>\n",
       "    </tr>\n",
       "    <tr>\n",
       "      <th>18</th>\n",
       "      <td>0.763828</td>\n",
       "      <td>0.855734</td>\n",
       "      <td>0.756875</td>\n",
       "      <td>0.887315</td>\n",
       "    </tr>\n",
       "    <tr>\n",
       "      <th>19</th>\n",
       "      <td>0.771094</td>\n",
       "      <td>0.836357</td>\n",
       "      <td>0.762500</td>\n",
       "      <td>0.869073</td>\n",
       "    </tr>\n",
       "  </tbody>\n",
       "</table>\n",
       "</div>"
      ],
      "text/plain": [
       "    accuracy      loss  val_accuracy  val_loss\n",
       "0   0.259844  2.759203      0.436250  2.074733\n",
       "1   0.500625  1.776590      0.560938  1.632695\n",
       "2   0.569844  1.513755      0.585312  1.479726\n",
       "3   0.615000  1.382590      0.609688  1.395647\n",
       "4   0.638594  1.292675      0.653125  1.298887\n",
       "5   0.660156  1.222129      0.667813  1.231754\n",
       "6   0.681250  1.162865      0.677188  1.189319\n",
       "7   0.692500  1.117792      0.685000  1.151732\n",
       "8   0.707109  1.074172      0.697187  1.115610\n",
       "9   0.713125  1.043728      0.713125  1.076697\n",
       "10  0.726875  1.013643      0.723750  1.041334\n",
       "11  0.730625  0.989452      0.718437  1.017350\n",
       "12  0.734297  0.966218      0.732813  0.994253\n",
       "13  0.741641  0.945283      0.732500  0.983960\n",
       "14  0.749375  0.922680      0.747500  0.950007\n",
       "15  0.751641  0.905439      0.754687  0.931223\n",
       "16  0.756406  0.888994      0.753750  0.917744\n",
       "17  0.760391  0.869575      0.759687  0.908383\n",
       "18  0.763828  0.855734      0.756875  0.887315\n",
       "19  0.771094  0.836357      0.762500  0.869073"
      ]
     },
     "execution_count": 33,
     "metadata": {},
     "output_type": "execute_result"
    }
   ],
   "source": [
    "model_loss  = pd.DataFrame(default_model.history.history)\n",
    "model_loss"
   ]
  },
  {
   "cell_type": "code",
   "execution_count": 34,
   "id": "6cb920d4-c6b9-4ad5-a0d5-6e23e64e8c04",
   "metadata": {},
   "outputs": [
    {
     "data": {
      "text/plain": [
       "<Axes: >"
      ]
     },
     "execution_count": 34,
     "metadata": {},
     "output_type": "execute_result"
    },
    {
     "data": {
      "image/png": "[encoded data removed]",
      "text/plain": [
       "<Figure size 640x480 with 1 Axes>"
      ]
     },
     "metadata": {},
     "output_type": "display_data"
    }
   ],
   "source": [
    "model_loss.plot()"
   ]
  },
  {
   "cell_type": "code",
   "execution_count": 35,
   "id": "f56c46ba-8ea1-4b19-ba47-091f737ef42b",
   "metadata": {},
   "outputs": [],
   "source": [
    "# Compile the model\n",
    "default_model.compile(optimizer='adam', loss='categorical_crossentropy', metrics=['accuracy'])"
   ]
  },
  {
   "cell_type": "code",
   "execution_count": 38,
   "id": "1ef2b170-5456-4765-89e4-84ce80b46b98",
   "metadata": {},
   "outputs": [
    {
     "name": "stdout",
     "output_type": "stream",
     "text": [
      "Default Model Classification Report:\n",
      "               precision    recall  f1-score   support\n",
      "\n",
      "           0       0.84      0.90      0.87       149\n",
      "           1       0.64      0.84      0.73       153\n",
      "           2       0.72      0.69      0.71       137\n",
      "           3       0.77      0.76      0.76       156\n",
      "           4       0.69      0.81      0.75       141\n",
      "           5       0.80      0.76      0.78       140\n",
      "           6       0.71      0.51      0.59       160\n",
      "           7       0.66      0.60      0.63       144\n",
      "           8       0.93      0.78      0.85       146\n",
      "           9       0.83      0.80      0.82       149\n",
      "          10       0.70      0.66      0.68       130\n",
      "          11       0.81      0.79      0.80       155\n",
      "          12       0.93      0.90      0.92       168\n",
      "          13       0.83      0.83      0.83       151\n",
      "          14       0.73      0.76      0.74       145\n",
      "          15       0.83      0.83      0.83       173\n",
      "          16       0.73      0.68      0.71       166\n",
      "          17       0.73      0.82      0.77       160\n",
      "          18       0.65      0.57      0.61       171\n",
      "          19       0.84      0.80      0.82       163\n",
      "          20       0.82      0.86      0.84       183\n",
      "          21       0.85      0.90      0.87       158\n",
      "          22       0.89      0.96      0.92       148\n",
      "          23       0.71      0.88      0.79       154\n",
      "          24       0.77      0.83      0.80       168\n",
      "          25       0.90      0.69      0.78       132\n",
      "\n",
      "    accuracy                           0.78      4000\n",
      "   macro avg       0.78      0.78      0.78      4000\n",
      "weighted avg       0.78      0.78      0.78      4000\n",
      "\n"
     ]
    }
   ],
   "source": [
    "# Classification report for default model\n",
    "from sklearn.metrics import classification_report\n",
    "\n",
    "default_classification_report = classification_report(y_test_classes, y_pred_classes_default)\n",
    "print(\"Default Model Classification Report:\\n\", default_classification_report)"
   ]
  },
  {
   "cell_type": "code",
   "execution_count": 39,
   "id": "d8c15cf5-7bff-426a-80eb-371ea213efff",
   "metadata": {},
   "outputs": [
    {
     "name": "stdout",
     "output_type": "stream",
     "text": [
      "\u001b[1m125/125\u001b[0m \u001b[32m━━━━━━━━━━━━━━━━━━━━\u001b[0m\u001b[37m\u001b[0m \u001b[1m0s\u001b[0m 2ms/step - accuracy: 0.7868 - loss: 0.8036\n",
      "\u001b[1m125/125\u001b[0m \u001b[32m━━━━━━━━━━━━━━━━━━━━\u001b[0m\u001b[37m\u001b[0m \u001b[1m0s\u001b[0m 2ms/step\n",
      "Default Model - Test Accuracy: 0.78\n"
     ]
    }
   ],
   "source": [
    "# Evaluate the default model\n",
    "default_loss, default_accuracy = default_model.evaluate(X_test, y_test)\n",
    "y_pred_default = default_model.predict(X_test)\n",
    "y_pred_classes_default = y_pred_default.argmax(axis=1)\n",
    "y_test_classes = y_test.values.argmax(axis=1)\n",
    "\n",
    "print(f'Default Model - Test Accuracy: {default_accuracy:.2f}')"
   ]
  },
  {
   "cell_type": "code",
   "execution_count": 15,
   "id": "c8a6ee78-300b-4bbb-aa78-e87bbe6678a5",
   "metadata": {},
   "outputs": [
    {
     "name": "stdout",
     "output_type": "stream",
     "text": [
      "Requirement already satisfied: keras in c:\\users\\lochan rishitha\\anaconda3\\lib\\site-packages (3.4.1)\n",
      "Requirement already satisfied: absl-py in c:\\users\\lochan rishitha\\anaconda3\\lib\\site-packages (from keras) (2.1.0)\n",
      "Requirement already satisfied: numpy in c:\\users\\lochan rishitha\\anaconda3\\lib\\site-packages (from keras) (1.26.4)\n",
      "Requirement already satisfied: rich in c:\\users\\lochan rishitha\\anaconda3\\lib\\site-packages (from keras) (13.3.5)\n",
      "Requirement already satisfied: namex in c:\\users\\lochan rishitha\\anaconda3\\lib\\site-packages (from keras) (0.0.8)\n",
      "Requirement already satisfied: h5py in c:\\users\\lochan rishitha\\anaconda3\\lib\\site-packages (from keras) (3.11.0)\n",
      "Requirement already satisfied: optree in c:\\users\\lochan rishitha\\anaconda3\\lib\\site-packages (from keras) (0.12.1)\n",
      "Requirement already satisfied: ml-dtypes in c:\\users\\lochan rishitha\\anaconda3\\lib\\site-packages (from keras) (0.4.0)\n",
      "Requirement already satisfied: packaging in c:\\users\\lochan rishitha\\anaconda3\\lib\\site-packages (from keras) (23.1)\n",
      "Requirement already satisfied: typing-extensions>=4.5.0 in c:\\users\\lochan rishitha\\anaconda3\\lib\\site-packages (from optree->keras) (4.9.0)\n",
      "Requirement already satisfied: markdown-it-py<3.0.0,>=2.2.0 in c:\\users\\lochan rishitha\\anaconda3\\lib\\site-packages (from rich->keras) (2.2.0)\n",
      "Requirement already satisfied: pygments<3.0.0,>=2.13.0 in c:\\users\\lochan rishitha\\anaconda3\\lib\\site-packages (from rich->keras) (2.15.1)\n",
      "Requirement already satisfied: mdurl~=0.1 in c:\\users\\lochan rishitha\\anaconda3\\lib\\site-packages (from markdown-it-py<3.0.0,>=2.2.0->rich->keras) (0.1.0)\n",
      "Note: you may need to restart the kernel to use updated packages.\n"
     ]
    }
   ],
   "source": [
    "pip install keras"
   ]
  },
  {
   "cell_type": "code",
   "execution_count": 16,
   "id": "6c6a6b53-df26-49e2-9866-2365ab5e7bec",
   "metadata": {},
   "outputs": [
    {
     "name": "stdout",
     "output_type": "stream",
     "text": [
      "Requirement already satisfied: keras-tuner in c:\\users\\lochan rishitha\\anaconda3\\lib\\site-packages (1.4.7)\n",
      "Requirement already satisfied: keras in c:\\users\\lochan rishitha\\anaconda3\\lib\\site-packages (from keras-tuner) (3.4.1)\n",
      "Requirement already satisfied: packaging in c:\\users\\lochan rishitha\\anaconda3\\lib\\site-packages (from keras-tuner) (23.1)\n",
      "Requirement already satisfied: requests in c:\\users\\lochan rishitha\\anaconda3\\lib\\site-packages (from keras-tuner) (2.31.0)\n",
      "Requirement already satisfied: kt-legacy in c:\\users\\lochan rishitha\\anaconda3\\lib\\site-packages (from keras-tuner) (1.0.5)\n",
      "Requirement already satisfied: absl-py in c:\\users\\lochan rishitha\\anaconda3\\lib\\site-packages (from keras->keras-tuner) (2.1.0)\n",
      "Requirement already satisfied: numpy in c:\\users\\lochan rishitha\\anaconda3\\lib\\site-packages (from keras->keras-tuner) (1.26.4)\n",
      "Requirement already satisfied: rich in c:\\users\\lochan rishitha\\anaconda3\\lib\\site-packages (from keras->keras-tuner) (13.3.5)\n",
      "Requirement already satisfied: namex in c:\\users\\lochan rishitha\\anaconda3\\lib\\site-packages (from keras->keras-tuner) (0.0.8)\n",
      "Requirement already satisfied: h5py in c:\\users\\lochan rishitha\\anaconda3\\lib\\site-packages (from keras->keras-tuner) (3.11.0)\n",
      "Requirement already satisfied: optree in c:\\users\\lochan rishitha\\anaconda3\\lib\\site-packages (from keras->keras-tuner) (0.12.1)\n",
      "Requirement already satisfied: ml-dtypes in c:\\users\\lochan rishitha\\anaconda3\\lib\\site-packages (from keras->keras-tuner) (0.4.0)\n",
      "Requirement already satisfied: charset-normalizer<4,>=2 in c:\\users\\lochan rishitha\\anaconda3\\lib\\site-packages (from requests->keras-tuner) (2.0.4)\n",
      "Requirement already satisfied: idna<4,>=2.5 in c:\\users\\lochan rishitha\\anaconda3\\lib\\site-packages (from requests->keras-tuner) (3.4)\n",
      "Requirement already satisfied: urllib3<3,>=1.21.1 in c:\\users\\lochan rishitha\\anaconda3\\lib\\site-packages (from requests->keras-tuner) (2.0.7)\n",
      "Requirement already satisfied: certifi>=2017.4.17 in c:\\users\\lochan rishitha\\anaconda3\\lib\\site-packages (from requests->keras-tuner) (2024.2.2)\n",
      "Requirement already satisfied: typing-extensions>=4.5.0 in c:\\users\\lochan rishitha\\anaconda3\\lib\\site-packages (from optree->keras->keras-tuner) (4.9.0)\n",
      "Requirement already satisfied: markdown-it-py<3.0.0,>=2.2.0 in c:\\users\\lochan rishitha\\anaconda3\\lib\\site-packages (from rich->keras->keras-tuner) (2.2.0)\n",
      "Requirement already satisfied: pygments<3.0.0,>=2.13.0 in c:\\users\\lochan rishitha\\anaconda3\\lib\\site-packages (from rich->keras->keras-tuner) (2.15.1)\n",
      "Requirement already satisfied: mdurl~=0.1 in c:\\users\\lochan rishitha\\anaconda3\\lib\\site-packages (from markdown-it-py<3.0.0,>=2.2.0->rich->keras->keras-tuner) (0.1.0)\n",
      "Note: you may need to restart the kernel to use updated packages.\n"
     ]
    }
   ],
   "source": [
    "pip install keras-tuner"
   ]
  },
  {
   "cell_type": "code",
   "execution_count": null,
   "id": "1e37dce1-acda-4eb3-a7b9-9a635129c576",
   "metadata": {},
   "outputs": [],
   "source": [
    "#Modify various hyperparameters, such as the number of hidden layers, neurons per hidden layer, activation functions, and learning rate, to observe their impact on model performance.\n",
    "#Adopt a structured approach like grid search or random search for hyperparameter tuning, documenting your methodology thoroughly.\n"
   ]
  },
  {
   "cell_type": "code",
   "execution_count": 41,
   "id": "64fc542f-cb5c-4562-8c3f-f104f5d01a52",
   "metadata": {},
   "outputs": [
    {
     "name": "stdout",
     "output_type": "stream",
     "text": [
      "Trial 5 Complete [00h 02m 09s]\n",
      "val_accuracy: 0.9207291603088379\n",
      "\n",
      "Best val_accuracy So Far: 0.9412500063578287\n",
      "Total elapsed time: 00h 18m 52s\n",
      "\n",
      "The hyperparameter search is complete. The optimal number of units in the first layer is 416\n",
      "and the optimal activation function is tanh.\n",
      "The optimal learning rate for the optimizer is 0.001.\n",
      "\n"
     ]
    }
   ],
   "source": [
    "from kerastuner import HyperModel\n",
    "from kerastuner.tuners import RandomSearch\n",
    "\n",
    "class MyHyperModel(HyperModel):\n",
    "    def build(self, hp):\n",
    "        model = Sequential()\n",
    "        model.add(Dense(\n",
    "            units=hp.Int('units', min_value=32, max_value=512, step=32),\n",
    "            activation=hp.Choice('activation', values=['relu', 'tanh']),\n",
    "            input_dim=X_train.shape[1]\n",
    "        ))\n",
    "\n",
    "        for i in range(hp.Int('num_layers', 1, 3)):\n",
    "            model.add(Dense(\n",
    "                units=hp.Int(f'units_{i}', min_value=32, max_value=512, step=32),\n",
    "                activation=hp.Choice(f'activation_{i}', values=['relu', 'tanh'])\n",
    "            ))\n",
    "\n",
    "        model.add(Dense(y_train.shape[1], activation='softmax'))\n",
    "        \n",
    "        model.compile(\n",
    "            optimizer=tf.keras.optimizers.Adam(\n",
    "                hp.Choice('learning_rate', values=[1e-2, 1e-3, 1e-4])\n",
    "            ),\n",
    "            loss='categorical_crossentropy',\n",
    "            metrics=['accuracy']\n",
    "        )\n",
    "        return model\n",
    "\n",
    "tuner = RandomSearch(\n",
    "    MyHyperModel(),\n",
    "    objective='val_accuracy',\n",
    "    max_trials=5,\n",
    "    executions_per_trial=3,\n",
    "    directory='my_dir',\n",
    "    project_name='alphabet_classification'\n",
    ")\n",
    "\n",
    "tuner.search_space_summary()\n",
    "\n",
    "# Perform the search\n",
    "tuner.search(X_train, y_train, epochs=20, validation_split=0.2)\n",
    "\n",
    "# Get the optimal hyperparameters\n",
    "best_hps = tuner.get_best_hyperparameters(num_trials=1)[0]\n",
    "\n",
    "print(f\"\"\"\n",
    "The hyperparameter search is complete. The optimal number of units in the first layer is {best_hps.get('units')}\n",
    "and the optimal activation function is {best_hps.get('activation')}.\n",
    "The optimal learning rate for the optimizer is {best_hps.get('learning_rate')}.\n",
    "\"\"\")"
   ]
  },
  {
   "cell_type": "code",
   "execution_count": null,
   "id": "9d6db9cf-d72b-4e96-bee8-e675cb4e7032",
   "metadata": {},
   "outputs": [],
   "source": [
    "#Employ suitable metrics such as accuracy, precision, recall, and F1-score to evaluate your model's performance.\n",
    "#Discuss the performance differences between the model with default hyperparameters and the tuned model, emphasizing the effects of hyperparameter tuning\n"
   ]
  },
  {
   "cell_type": "code",
   "execution_count": 43,
   "id": "d5ed3538-71cc-4e29-9b88-767ac57194a3",
   "metadata": {},
   "outputs": [
    {
     "name": "stderr",
     "output_type": "stream",
     "text": [
      "C:\\Users\\LOCHAN RISHITHA\\anaconda3\\Lib\\site-packages\\keras\\src\\layers\\core\\dense.py:87: UserWarning: Do not pass an `input_shape`/`input_dim` argument to a layer. When using Sequential models, prefer using an `Input(shape)` object as the first layer in the model instead.\n",
      "  super().__init__(activity_regularizer=activity_regularizer, **kwargs)\n"
     ]
    },
    {
     "name": "stdout",
     "output_type": "stream",
     "text": [
      "Epoch 1/20\n",
      "\u001b[1m400/400\u001b[0m \u001b[32m━━━━━━━━━━━━━━━━━━━━\u001b[0m\u001b[37m\u001b[0m \u001b[1m6s\u001b[0m 7ms/step - accuracy: 0.4035 - loss: 2.1696 - val_accuracy: 0.6866 - val_loss: 1.1440\n",
      "Epoch 2/20\n",
      "\u001b[1m400/400\u001b[0m \u001b[32m━━━━━━━━━━━━━━━━━━━━\u001b[0m\u001b[37m\u001b[0m \u001b[1m2s\u001b[0m 6ms/step - accuracy: 0.7086 - loss: 1.0487 - val_accuracy: 0.7206 - val_loss: 1.0119\n",
      "Epoch 3/20\n",
      "\u001b[1m400/400\u001b[0m \u001b[32m━━━━━━━━━━━━━━━━━━━━\u001b[0m\u001b[37m\u001b[0m \u001b[1m2s\u001b[0m 6ms/step - accuracy: 0.7356 - loss: 0.9460 - val_accuracy: 0.7466 - val_loss: 0.9264\n",
      "Epoch 4/20\n",
      "\u001b[1m400/400\u001b[0m \u001b[32m━━━━━━━━━━━━━━━━━━━━\u001b[0m\u001b[37m\u001b[0m \u001b[1m2s\u001b[0m 6ms/step - accuracy: 0.7661 - loss: 0.8563 - val_accuracy: 0.7850 - val_loss: 0.7948\n",
      "Epoch 5/20\n",
      "\u001b[1m400/400\u001b[0m \u001b[32m━━━━━━━━━━━━━━━━━━━━\u001b[0m\u001b[37m\u001b[0m \u001b[1m2s\u001b[0m 6ms/step - accuracy: 0.7897 - loss: 0.7531 - val_accuracy: 0.7916 - val_loss: 0.7472\n",
      "Epoch 6/20\n",
      "\u001b[1m400/400\u001b[0m \u001b[32m━━━━━━━━━━━━━━━━━━━━\u001b[0m\u001b[37m\u001b[0m \u001b[1m2s\u001b[0m 6ms/step - accuracy: 0.7961 - loss: 0.7016 - val_accuracy: 0.8094 - val_loss: 0.6422\n",
      "Epoch 7/20\n",
      "\u001b[1m400/400\u001b[0m \u001b[32m━━━━━━━━━━━━━━━━━━━━\u001b[0m\u001b[37m\u001b[0m \u001b[1m2s\u001b[0m 5ms/step - accuracy: 0.8165 - loss: 0.6174 - val_accuracy: 0.8300 - val_loss: 0.5801\n",
      "Epoch 8/20\n",
      "\u001b[1m400/400\u001b[0m \u001b[32m━━━━━━━━━━━━━━━━━━━━\u001b[0m\u001b[37m\u001b[0m \u001b[1m2s\u001b[0m 6ms/step - accuracy: 0.8492 - loss: 0.5148 - val_accuracy: 0.8569 - val_loss: 0.4949\n",
      "Epoch 9/20\n",
      "\u001b[1m400/400\u001b[0m \u001b[32m━━━━━━━━━━━━━━━━━━━━\u001b[0m\u001b[37m\u001b[0m \u001b[1m2s\u001b[0m 6ms/step - accuracy: 0.8649 - loss: 0.4438 - val_accuracy: 0.8722 - val_loss: 0.4374\n",
      "Epoch 10/20\n",
      "\u001b[1m400/400\u001b[0m \u001b[32m━━━━━━━━━━━━━━━━━━━━\u001b[0m\u001b[37m\u001b[0m \u001b[1m2s\u001b[0m 6ms/step - accuracy: 0.8772 - loss: 0.4021 - val_accuracy: 0.8956 - val_loss: 0.3734\n",
      "Epoch 11/20\n",
      "\u001b[1m400/400\u001b[0m \u001b[32m━━━━━━━━━━━━━━━━━━━━\u001b[0m\u001b[37m\u001b[0m \u001b[1m2s\u001b[0m 6ms/step - accuracy: 0.8923 - loss: 0.3514 - val_accuracy: 0.8941 - val_loss: 0.3603\n",
      "Epoch 12/20\n",
      "\u001b[1m400/400\u001b[0m \u001b[32m━━━━━━━━━━━━━━━━━━━━\u001b[0m\u001b[37m\u001b[0m \u001b[1m2s\u001b[0m 6ms/step - accuracy: 0.9057 - loss: 0.3117 - val_accuracy: 0.8906 - val_loss: 0.3512\n",
      "Epoch 13/20\n",
      "\u001b[1m400/400\u001b[0m \u001b[32m━━━━━━━━━━━━━━━━━━━━\u001b[0m\u001b[37m\u001b[0m \u001b[1m2s\u001b[0m 6ms/step - accuracy: 0.9161 - loss: 0.2799 - val_accuracy: 0.9134 - val_loss: 0.2894\n",
      "Epoch 14/20\n",
      "\u001b[1m400/400\u001b[0m \u001b[32m━━━━━━━━━━━━━━━━━━━━\u001b[0m\u001b[37m\u001b[0m \u001b[1m2s\u001b[0m 5ms/step - accuracy: 0.9173 - loss: 0.2669 - val_accuracy: 0.8997 - val_loss: 0.3064\n",
      "Epoch 15/20\n",
      "\u001b[1m400/400\u001b[0m \u001b[32m━━━━━━━━━━━━━━━━━━━━\u001b[0m\u001b[37m\u001b[0m \u001b[1m2s\u001b[0m 6ms/step - accuracy: 0.9284 - loss: 0.2335 - val_accuracy: 0.9225 - val_loss: 0.2508\n",
      "Epoch 16/20\n",
      "\u001b[1m400/400\u001b[0m \u001b[32m━━━━━━━━━━━━━━━━━━━━\u001b[0m\u001b[37m\u001b[0m \u001b[1m2s\u001b[0m 6ms/step - accuracy: 0.9381 - loss: 0.2144 - val_accuracy: 0.9316 - val_loss: 0.2446\n",
      "Epoch 17/20\n",
      "\u001b[1m400/400\u001b[0m \u001b[32m━━━━━━━━━━━━━━━━━━━━\u001b[0m\u001b[37m\u001b[0m \u001b[1m2s\u001b[0m 6ms/step - accuracy: 0.9424 - loss: 0.1970 - val_accuracy: 0.9284 - val_loss: 0.2401\n",
      "Epoch 18/20\n",
      "\u001b[1m400/400\u001b[0m \u001b[32m━━━━━━━━━━━━━━━━━━━━\u001b[0m\u001b[37m\u001b[0m \u001b[1m2s\u001b[0m 6ms/step - accuracy: 0.9479 - loss: 0.1761 - val_accuracy: 0.9244 - val_loss: 0.2327\n",
      "Epoch 19/20\n",
      "\u001b[1m400/400\u001b[0m \u001b[32m━━━━━━━━━━━━━━━━━━━━\u001b[0m\u001b[37m\u001b[0m \u001b[1m2s\u001b[0m 6ms/step - accuracy: 0.9476 - loss: 0.1757 - val_accuracy: 0.9366 - val_loss: 0.2064\n",
      "Epoch 20/20\n",
      "\u001b[1m400/400\u001b[0m \u001b[32m━━━━━━━━━━━━━━━━━━━━\u001b[0m\u001b[37m\u001b[0m \u001b[1m2s\u001b[0m 5ms/step - accuracy: 0.9578 - loss: 0.1473 - val_accuracy: 0.9422 - val_loss: 0.1968\n",
      "\u001b[1m125/125\u001b[0m \u001b[32m━━━━━━━━━━━━━━━━━━━━\u001b[0m\u001b[37m\u001b[0m \u001b[1m0s\u001b[0m 2ms/step - accuracy: 0.9416 - loss: 0.1912\n",
      "\u001b[1m125/125\u001b[0m \u001b[32m━━━━━━━━━━━━━━━━━━━━\u001b[0m\u001b[37m\u001b[0m \u001b[1m0s\u001b[0m 3ms/step\n",
      "Tuned Model - Test Accuracy: 0.94\n"
     ]
    }
   ],
   "source": [
    "# Build the best model from tuner\n",
    "tuned_model = tuner.hypermodel.build(best_hps)\n",
    "\n",
    "# Train the tuned model\n",
    "tuned_model.fit(X_train, y_train, epochs=20, validation_split=0.2)\n",
    "\n",
    "# Evaluate the tuned model\n",
    "tuned_loss, tuned_accuracy = tuned_model.evaluate(X_test, y_test)\n",
    "y_pred_tuned = tuned_model.predict(X_test)\n",
    "y_pred_classes_tuned = y_pred_tuned.argmax(axis=1)\n",
    "\n",
    "print(f'Tuned Model - Test Accuracy: {tuned_accuracy:.2f}')\n"
   ]
  },
  {
   "cell_type": "code",
   "execution_count": 46,
   "id": "f6b54beb-7214-4e22-b1a4-85be8f010b8d",
   "metadata": {},
   "outputs": [
    {
     "name": "stdout",
     "output_type": "stream",
     "text": [
      "Tuned Model Classification Report:\n",
      "               precision    recall  f1-score   support\n",
      "\n",
      "           0       0.98      0.98      0.98       149\n",
      "           1       0.93      0.92      0.92       153\n",
      "           2       0.92      0.95      0.93       137\n",
      "           3       0.95      0.92      0.94       156\n",
      "           4       0.93      0.94      0.94       141\n",
      "           5       0.88      0.95      0.91       140\n",
      "           6       0.92      0.90      0.91       160\n",
      "           7       0.89      0.86      0.88       144\n",
      "           8       0.97      0.93      0.95       146\n",
      "           9       0.93      0.96      0.95       149\n",
      "          10       0.87      0.91      0.89       130\n",
      "          11       0.97      0.96      0.97       155\n",
      "          12       0.99      0.95      0.97       168\n",
      "          13       0.98      0.94      0.96       151\n",
      "          14       0.95      0.94      0.95       145\n",
      "          15       0.98      0.96      0.97       173\n",
      "          16       0.97      0.95      0.96       166\n",
      "          17       0.85      0.94      0.90       160\n",
      "          18       0.98      0.95      0.97       171\n",
      "          19       0.92      0.96      0.94       163\n",
      "          20       0.95      0.98      0.96       183\n",
      "          21       0.97      0.96      0.96       158\n",
      "          22       0.99      0.96      0.97       148\n",
      "          23       0.96      0.97      0.96       154\n",
      "          24       0.99      0.91      0.95       168\n",
      "          25       0.92      0.98      0.95       132\n",
      "\n",
      "    accuracy                           0.94      4000\n",
      "   macro avg       0.94      0.94      0.94      4000\n",
      "weighted avg       0.95      0.94      0.94      4000\n",
      "\n",
      "Default Model - Precision: 0.78, Recall: 0.78, F1-Score: 0.78\n"
     ]
    }
   ],
   "source": [
    "# Classification report for tuned model\n",
    "tuned_classification_report = classification_report(y_test_classes, y_pred_classes_tuned)\n",
    "print(\"Tuned Model Classification Report:\\n\", tuned_classification_report)\n",
    "\n",
    "# Get precision, recall, and F1-score for both models\n",
    "from sklearn.metrics import precision_recall_fscore_support\n",
    "\n",
    "default_precision, default_recall, default_f1, _ = precision_recall_fscore_support(y_test_classes, y_pred_classes_default, average='weighted')\n",
    "\n",
    "# Print the results\n",
    "print(f\"Default Model - Precision: {default_precision:.2f}, Recall: {default_recall:.2f}, F1-Score: {default_f1:.2f}\")\n"
   ]
  },
  {
   "cell_type": "code",
   "execution_count": 48,
   "id": "86765836-339e-4dcd-b698-fad093c2ef68",
   "metadata": {},
   "outputs": [
    {
     "name": "stdout",
     "output_type": "stream",
     "text": [
      "Default Model Classification Report:\n",
      "               precision    recall  f1-score   support\n",
      "\n",
      "           0       0.84      0.90      0.87       149\n",
      "           1       0.64      0.84      0.73       153\n",
      "           2       0.72      0.69      0.71       137\n",
      "           3       0.77      0.76      0.76       156\n",
      "           4       0.69      0.81      0.75       141\n",
      "           5       0.80      0.76      0.78       140\n",
      "           6       0.71      0.51      0.59       160\n",
      "           7       0.66      0.60      0.63       144\n",
      "           8       0.93      0.78      0.85       146\n",
      "           9       0.83      0.80      0.82       149\n",
      "          10       0.70      0.66      0.68       130\n",
      "          11       0.81      0.79      0.80       155\n",
      "          12       0.93      0.90      0.92       168\n",
      "          13       0.83      0.83      0.83       151\n",
      "          14       0.73      0.76      0.74       145\n",
      "          15       0.83      0.83      0.83       173\n",
      "          16       0.73      0.68      0.71       166\n",
      "          17       0.73      0.82      0.77       160\n",
      "          18       0.65      0.57      0.61       171\n",
      "          19       0.84      0.80      0.82       163\n",
      "          20       0.82      0.86      0.84       183\n",
      "          21       0.85      0.90      0.87       158\n",
      "          22       0.89      0.96      0.92       148\n",
      "          23       0.71      0.88      0.79       154\n",
      "          24       0.77      0.83      0.80       168\n",
      "          25       0.90      0.69      0.78       132\n",
      "\n",
      "    accuracy                           0.78      4000\n",
      "   macro avg       0.78      0.78      0.78      4000\n",
      "weighted avg       0.78      0.78      0.78      4000\n",
      "\n",
      "Tuned Model - Precision: 0.95, Recall: 0.94, F1-Score: 0.94\n"
     ]
    }
   ],
   "source": [
    "# Classification report for default model\n",
    "tuned_classification_report = classification_report(y_test_classes, y_pred_classes_tuned)\n",
    "print(\"Default Model Classification Report:\\n\", default_classification_report)\n",
    "\n",
    "tuned_precision, tuned_recall, tuned_f1, _ = precision_recall_fscore_support(y_test_classes, y_pred_classes_tuned, average='weighted')\n",
    "print(f\"Tuned Model - Precision: {tuned_precision:.2f}, Recall: {tuned_recall:.2f}, F1-Score: {tuned_f1:.2f}\")"
   ]
  },
  {
   "cell_type": "code",
   "execution_count": null,
   "id": "3d66da8e-0dd2-4294-abc2-382195e69c7d",
   "metadata": {},
   "outputs": [],
   "source": [
    "#Performance Comparison:\n",
    "#Default Model\n",
    "#First, we summarize the performance metrics of the default model:\n",
    "\n",
    "#Accuracy: The overall accuracy of the model on the test set.\n",
    "\n",
    "#Precision: The precision metric for each class, averaged to get a single value.\n",
    "\n",
    "#Recall: The recall metric for each class, averaged to get a single value.\n",
    "\n",
    "#F1-Score: The harmonic mean of precision and recall.\n",
    "\n",
    "#Accuracy: 0.94\n",
    "#Precision: 0.78\n",
    "#Recall: 0.78\n",
    "#F1-Score: 0.78\n",
    "\n",
    "#Tuned Model\n",
    "#Next, we summarize the performance metrics of the tuned model after hyperparameter optimization:\n",
    "\n",
    "#Accuracy: The overall accuracy of the model on the test set.\n",
    "\n",
    "#Precision: The precision metric for each class, averaged to get a single value.\n",
    "\n",
    "#Recall: The recall metric for each class, averaged to get a single value.\n",
    "\n",
    "#F1-Score: The harmonic mean of precision and recall.\n",
    "\n",
    "#Accuracy: 0.78\n",
    "#Precision: 0.95\n",
    "#Recall: 0.94\n",
    "#F1-Score: 0.94\n",
    "\n",
    "#Effects of Hyperparameter Tuning\n",
    "\n",
    "#Default Model: The default model achieved an accuracy of 94%, indicating a solid baseline performance.\n",
    "\n",
    "#Tuned Model: The tuned model achieved an accuracy of 78%, showing a significant improvement in its ability to correctly classify the samples. This increase is due to finding a better combination of hyperparameters that better fit the training data while maintaining generalization to the test data.\n",
    "\n",
    "#Improved Precision:\n",
    "\n",
    "#Default Model: The default model had a precision of 78%, which means that out of all the samples predicted as a specific class, 84% were correctly classified.\n",
    "\n",
    "#Tuned Model: The tuned model had a precision of 95%, indicating a substantial reduction in false positives. This improvement shows that the tuned model is better at predicting the correct class, making fewer mistakes in classification.\n",
    "\n",
    "#Enhanced Recall:\n",
    "\n",
    "#Default Model: The default model had a recall of 78%, meaning that out of all the actual samples of a specific class, 83% were correctly identified by the model.\n",
    "\n",
    "#Tuned Model: The tuned model had a recall of 94%, indicating a significant reduction in false negatives. This improvement shows that the tuned model is better at identifying all relevant instances of each class.\n",
    "\n",
    "#Higher F1-Score:\n",
    "\n",
    "#Default Model: The F1-score of the default model was 78%, providing a balance between precision and recall.\n",
    "\n",
    "#Tuned Model: The F1-score of the tuned model was 94%, showing a better balance and improvement in both precision and recall"
   ]
  }
 ],
 "metadata": {
  "kernelspec": {
   "display_name": "Python 3 (ipykernel)",
   "language": "python",
   "name": "python3"
  },
  "language_info": {
   "codemirror_mode": {
    "name": "ipython",
    "version": 3
   },
   "file_extension": ".py",
   "mimetype": "text/x-python",
   "name": "python",
   "nbconvert_exporter": "python",
   "pygments_lexer": "ipython3",
   "version": "3.11.7"
  }
 },
 "nbformat": 4,
 "nbformat_minor": 5
}
